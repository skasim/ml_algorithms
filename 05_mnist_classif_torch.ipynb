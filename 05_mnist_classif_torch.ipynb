{
 "cells": [
  {
   "cell_type": "code",
   "execution_count": 5,
   "id": "41d2f71b-bf4a-42eb-9a1e-e08f10ce8622",
   "metadata": {
    "scrolled": true
   },
   "outputs": [],
   "source": [
    "import pandas as pd\n",
    "import matplotlib.pyplot as plt\n",
    "import seaborn as sns\n",
    "import requests\n",
    "import struct\n",
    "import torch\n",
    "import torch.nn as nn\n",
    "from torch.utils.data import Dataset\n",
    "import torch.nn.functional as F\n",
    "from torch.utils.data import DataLoader\n",
    "import numpy as np\n",
    "%matplotlib inline"
   ]
  },
  {
   "cell_type": "code",
   "execution_count": 2,
   "id": "df3e0342-b88b-4701-9b55-ce640a7728dc",
   "metadata": {},
   "outputs": [],
   "source": [
    "# src: https://www.kaggle.com/code/abdullahtursun/recognizing-digits-using-cnn-98-accuracy\n",
    "def load_image_file(file_path):\n",
    "    with open(file_path, \"rb\") as file:    \n",
    "        file.read(16)    # Skip the header for images\n",
    "        binary_data = file.read()\n",
    "        numpy_data = np.frombuffer(binary_data, dtype=np.uint8)\n",
    "        num_images = numpy_data.size // 784 \n",
    "        data = numpy_data.reshape(num_images, 784)\n",
    "        return data\n",
    "\n",
    "def load_label_file(file_path):\n",
    "    with open(file_path, \"rb\") as file:    \n",
    "        file.read(16)    # Skip the header for images\n",
    "        binary_data = file.read()\n",
    "        data = np.frombuffer(binary_data, dtype=np.uint8)\n",
    "        return data"
   ]
  },
  {
   "cell_type": "code",
   "execution_count": 3,
   "id": "844b1a8a-f5e8-41a1-a2f3-f14b9016f492",
   "metadata": {},
   "outputs": [],
   "source": [
    "def read_mnist_file(filename):\n",
    "    with open(filename, \"rb\") as f:\n",
    "        # Read the magic number and number of items\n",
    "        magic, num_items = struct.unpack('>II', f.read(8))\n",
    "        # Check if it's an image file (magic number 2051) or label file (magic number 2049)\n",
    "        if magic == 2051:\n",
    "            # Read the number of rows and columns\n",
    "            rows, cols = struct.unpack('>II', f.read(8))\n",
    "            # Read the image data\n",
    "            data = np.fromfile(f, dtype=np.uint8).reshape(num_items, rows, cols)\n",
    "        elif magic == 2049:\n",
    "            # Read the label data\n",
    "            data = np.fromfile(f, dtype=np.uint8)\n",
    "        else:\n",
    "            raise ValueError('Invalid magic number')\n",
    "    return data"
   ]
  },
  {
   "cell_type": "markdown",
   "id": "a732b6da-6ca5-4ddd-bc48-d02682629e86",
   "metadata": {},
   "source": [
    "The MNIST (Modified National Institute of Standards and Technology) data consists of 60,000 training images and 10,000 test images. Each image is a crude 28 x 28 (784 pixels) handwritten digit from \"0\" to \"9.\" Each pixel value is a grayscale integer between 0 and 255."
   ]
  },
  {
   "cell_type": "code",
   "execution_count": 6,
   "id": "eee18cdf-0042-44fb-bc61-484e71109e3a",
   "metadata": {},
   "outputs": [],
   "source": [
    "train_imgs = read_mnist_file(\"./data/mnist/train-images.idx3-ubyte\")\n",
    "test_imgs = read_mnist_file(\"./data/mnist/t10k-images.idx3-ubyte\")\n",
    "train_lbls = read_mnist_file(\"./data/mnist/train-labels.idx1-ubyte\")\n",
    "test_lbls = read_mnist_file(\"./data/mnist/t10k-labels.idx1-ubyte\")"
   ]
  },
  {
   "cell_type": "code",
   "execution_count": 65,
   "id": "c0d73870-e793-4393-b8ea-bed47b6cfa41",
   "metadata": {},
   "outputs": [
    {
     "data": {
      "image/png": "[encoded data removed]",
      "text/plain": [
       "<Figure size 640x480 with 1 Axes>"
      ]
     },
     "metadata": {},
     "output_type": "display_data"
    }
   ],
   "source": [
    "# ref: https://matplotlib.org/stable/tutorials/images.html\n",
    "def display_img(imgs,lbls):\n",
    "    idx = np.random.randint(0, len(lbls))\n",
    "    img = imgs[idx]\n",
    "    pixels = img.reshape(28, 28)\n",
    "    plt.imshow(pixels, cmap=\"gray\")\n",
    "    plt.title(f\"label: {lbls[idx]}\")\n",
    "    plt.show()\n",
    "    return idx\n",
    "\n",
    "display_img(train_imgs,train_lbls)\n",
    "plt.close(\"all\")"
   ]
  },
  {
   "cell_type": "code",
   "execution_count": 22,
   "id": "5f08bc1f-896f-44ab-86fc-77ce7c7000ae",
   "metadata": {},
   "outputs": [],
   "source": [
    "class ANN(nn.Module):\n",
    "    def __init__(self, input_dims, H1, H2, n_out):\n",
    "        super().__init__()\n",
    "        self.fc1 = nn.Linear(input_dims, H1)\n",
    "        self.relu1 = nn.ReLU()\n",
    "        self.fc2 = nn.Linear(H1, H2)\n",
    "        self.relu2 = nn.ReLU()\n",
    "        self.fc3 = nn.Linear(H2, n_out)\n",
    "\n",
    "    def forward(self, x):\n",
    "        x = self.fc1(x)\n",
    "        x = self.relu1(x)\n",
    "        x = self.fc2(x)\n",
    "        x = self.relu2(x)\n",
    "        x = self.fc3(x)\n",
    "        return x\n",
    "        "
   ]
  },
  {
   "cell_type": "code",
   "execution_count": 71,
   "id": "f3f40512-2cde-4267-97e5-b6fffa2fbdcd",
   "metadata": {},
   "outputs": [],
   "source": [
    "def normalize_images(imgs):\n",
    "    imgs = imgs.reshape(imgs.shape[0], -1)\n",
    "    imgs = imgs / 255 # normalize by largest RGB value\n",
    "    data_mean = np.mean(imgs.ravel())\n",
    "    data_std = np.std(imgs.ravel())\n",
    "    imgs = (imgs - data_mean) / data_std   \n",
    "    return imgs\n",
    "# def one_hot_vec(arr):\n",
    "#     v = np.zeros((arr.size, arr.max() + 1))\n",
    "#     v[np.arange(arr.size), arr] = 1\n",
    "#     return v\n",
    "# def vectorize_labels(lbls):\n",
    "#     return one_hot_vec(lbls)"
   ]
  },
  {
   "cell_type": "code",
   "execution_count": 21,
   "id": "24688aa2-5cfd-48a0-bb7e-1245ade32294",
   "metadata": {},
   "outputs": [],
   "source": [
    "class CustomImageDataset(Dataset):\n",
    "    def __init__(self, train_imgs, test_imgs, train_lbls, test_lbls):\n",
    "        train_imgs = torch.Tensor(self.normalize_images(train_imgs))\n",
    "        train_imgs = torch.flatten(train_imgs, start_dim=1)\n",
    "        test_imgs = torch.Tensor(self.normalize_images(test_imgs))\n",
    "        test_imgs = torch.flatten(test_imgs, start_dim=1)\n",
    "        self.imgs = torch.cat((train_imgs, test_imgs), axis=0)\n",
    "        train_lbls = torch.tensor(self.one_hot_vectorize(train_lbls))\n",
    "        test_lbls = torch.tensor(self.one_hot_vectorize(test_lbls))\n",
    "        self.img_labels = torch.cat((train_lbls, test_lbls), axis=0)\n",
    "\n",
    "    def __len__(self):\n",
    "        return len(self.img_labels)\n",
    "\n",
    "    def __getitem__(self, idx):\n",
    "        image = self.imgs[idx]\n",
    "        label = self.img_labels[idx]\n",
    "        return image, label\n",
    "\n",
    "    def one_hot_vectorize(self, arr):\n",
    "        v = np.zeros((arr.size, arr.max() + 1))\n",
    "        v[np.arange(arr.size), arr] = 1\n",
    "        return v\n",
    "    \n",
    "    def normalize_images(self, imgs):\n",
    "        imgs = imgs.reshape(imgs.shape[0], -1)\n",
    "        imgs = imgs / 255 # normalize by largest RGB value\n",
    "        data_mean = np.mean(imgs.ravel())\n",
    "        data_std = np.std(imgs.ravel())\n",
    "        imgs = (imgs - data_mean) / data_std   \n",
    "        return imgs"
   ]
  },
  {
   "cell_type": "code",
   "execution_count": 12,
   "id": "dc26037d-2eb3-4ed6-8c56-538f5aeebeea",
   "metadata": {},
   "outputs": [],
   "source": [
    "ds = CustomImageDataset(train_imgs, test_imgs, train_lbls, test_lbls)\n",
    "train_dataset, test_dataset = torch.utils.data.random_split(ds, [0.8, 0.2])"
   ]
  },
  {
   "cell_type": "code",
   "execution_count": 13,
   "id": "ce93b76f-5ece-4ff1-8e83-3e4ce4baed2e",
   "metadata": {},
   "outputs": [],
   "source": [
    "train_dataloader = DataLoader(train_dataset, batch_size=32, shuffle=True)\n",
    "test_dataloader = DataLoader(test_dataset, batch_size=64, shuffle=True)"
   ]
  },
  {
   "cell_type": "code",
   "execution_count": 14,
   "id": "9727af5c-2d8d-474c-a4ce-c040ef50092d",
   "metadata": {},
   "outputs": [
    {
     "name": "stdout",
     "output_type": "stream",
     "text": [
      "Feature batch shape: torch.Size([32, 784])\n",
      "Labels batch shape: torch.Size([32, 10])\n"
     ]
    }
   ],
   "source": [
    "train_features, train_labels = next(iter(train_dataloader))\n",
    "print(f\"Feature batch shape: {train_features.size()}\")\n",
    "print(f\"Labels batch shape: {train_labels.size()}\")"
   ]
  },
  {
   "cell_type": "code",
   "execution_count": 34,
   "id": "e3e6dfe9-15d6-4a08-b7eb-c0eee8802a71",
   "metadata": {},
   "outputs": [
    {
     "data": {
      "image/png": "[encoded data removed]",
      "text/plain": [
       "<Figure size 640x480 with 1 Axes>"
      ]
     },
     "metadata": {},
     "output_type": "display_data"
    }
   ],
   "source": [
    "# train\n",
    "model = ANN(input_dims=784, H1=100, H2=80, n_out=10)\n",
    "optimizer = torch.optim.Adam(model.parameters(), lr=0.001)\n",
    "mean_losses = []\n",
    "for epoch in range(20):\n",
    "    batch_loss = []\n",
    "    for i, (X,y) in enumerate(train_dataloader):\n",
    "        optimizer.zero_grad()\n",
    "        predicted = model(X)\n",
    "        loss = F.cross_entropy(predicted, y)\n",
    "        batch_loss.append(loss.item())\n",
    "        loss.backward()\n",
    "        optimizer.step()\n",
    "    mean_losses.append(np.mean(batch_loss))  \n",
    "\n",
    "        \n",
    "sns.lineplot(data=pd.DataFrame(mean_losses, columns=[\"mean_losses\"]))\n",
    "plt.show()\n",
    "plt.close()        "
   ]
  },
  {
   "cell_type": "code",
   "execution_count": 59,
   "id": "21500821-868e-4c01-9f48-58187f1742e7",
   "metadata": {},
   "outputs": [
    {
     "name": "stdout",
     "output_type": "stream",
     "text": [
      "model accuracy: 97.34%\n"
     ]
    }
   ],
   "source": [
    "# test\n",
    "accuracy = 0\n",
    "tot_count = 0\n",
    "for i, (X,y) in enumerate(test_dataloader):\n",
    "    optimizer.zero_grad()\n",
    "    predicted = model(X)\n",
    "    y_hat = torch.argmax(predicted, dim=-1)\n",
    "    target = torch.argmax(y, dim=-1)\n",
    "    tot_count += X.shape[0]\n",
    "    accuracy += torch.sum(y_hat == target).item()\n",
    "print(f\"model accuracy: {round((accuracy/tot_count)*100, 2)}%\")\n"
   ]
  },
  {
   "cell_type": "code",
   "execution_count": 84,
   "id": "d6aa461a-3e00-4c81-a0fa-64fecf59d1ef",
   "metadata": {},
   "outputs": [
    {
     "data": {
      "image/png": "[encoded data removed]",
      "text/plain": [
       "<Figure size 640x480 with 1 Axes>"
      ]
     },
     "metadata": {},
     "output_type": "display_data"
    },
    {
     "name": "stdout",
     "output_type": "stream",
     "text": [
      "predicted: 6\n"
     ]
    }
   ],
   "source": [
    "idx = display_img(test_imgs,test_lbls)\n",
    "im = torch.tensor(normalize_images(test_imgs[idx]))\n",
    "im = torch.flatten(im, start_dim=0)\n",
    "pred = torch.argmax(model(im))\n",
    "print(f\"predicted: {pred}\")"
   ]
  }
 ],
 "metadata": {
  "kernelspec": {
   "display_name": "ml_demos",
   "language": "python",
   "name": "ml_demos"
  },
  "language_info": {
   "codemirror_mode": {
    "name": "ipython",
    "version": 3
   },
   "file_extension": ".py",
   "mimetype": "text/x-python",
   "name": "python",
   "nbconvert_exporter": "python",
   "pygments_lexer": "ipython3",
   "version": "3.11.9"
  }
 },
 "nbformat": 4,
 "nbformat_minor": 5
}
