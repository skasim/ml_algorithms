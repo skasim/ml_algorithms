{
 "cells": [
  {
   "cell_type": "code",
   "execution_count": 1,
   "id": "41d2f71b-bf4a-42eb-9a1e-e08f10ce8622",
   "metadata": {
    "scrolled": true
   },
   "outputs": [],
   "source": [
    "import numpy as np\n",
    "import pandas as pd\n",
    "import matplotlib.pyplot as plt\n",
    "import seaborn as sns\n",
    "import requests\n",
    "import struct\n",
    "from sklearn.utils import shuffle\n",
    "from sklearn.metrics import accuracy_score\n",
    "\n",
    "%matplotlib inline"
   ]
  },
  {
   "cell_type": "code",
   "execution_count": 2,
   "id": "0a6d531c-b5b4-45ef-99bc-3ffde9e056b8",
   "metadata": {},
   "outputs": [],
   "source": [
    "# download MNIST dataset\n",
    "# run one time only\n",
    "# data_files = [\n",
    "#     'train-images-idx3-ubyte.gz',\n",
    "#     'train-labels-idx1-ubyte.gz',\n",
    "#     't10k-images-idx3-ubyte.gz',\n",
    "#     't10k-labels-idx1-ubyte.gz',\n",
    "# ]\n",
    "# url = \"https://yann.lecun.com/exdb/mnist\"\n",
    "# for f in data_files:\n",
    "#     r = requests.get(f\"{url}/{f}\", stream=True)\n",
    "#     open(f\"data/{f.split('.')[0]}.mnist\", \"wb\").write(r.content)"
   ]
  },
  {
   "cell_type": "code",
   "execution_count": 3,
   "id": "df3e0342-b88b-4701-9b55-ce640a7728dc",
   "metadata": {},
   "outputs": [],
   "source": [
    "# src: https://www.kaggle.com/code/abdullahtursun/recognizing-digits-using-cnn-98-accuracy\n",
    "def load_image_file(file_path):\n",
    "    with open(file_path, \"rb\") as file:    \n",
    "        file.read(16)    # Skip the header for images\n",
    "        binary_data = file.read()\n",
    "        numpy_data = np.frombuffer(binary_data, dtype=np.uint8)\n",
    "        num_images = numpy_data.size // 784 \n",
    "        data = numpy_data.reshape(num_images, 784)\n",
    "        return data\n",
    "\n",
    "def load_label_file(file_path):\n",
    "    with open(file_path, \"rb\") as file:    \n",
    "        file.read(16)    # Skip the header for images\n",
    "        binary_data = file.read()\n",
    "        data = np.frombuffer(binary_data, dtype=np.uint8)\n",
    "        return data"
   ]
  },
  {
   "cell_type": "code",
   "execution_count": 4,
   "id": "844b1a8a-f5e8-41a1-a2f3-f14b9016f492",
   "metadata": {},
   "outputs": [],
   "source": [
    "def read_mnist_file(filename):\n",
    "    with open(filename, \"rb\") as f:\n",
    "        # Read the magic number and number of items\n",
    "        magic, num_items = struct.unpack('>II', f.read(8))\n",
    "        # Check if it's an image file (magic number 2051) or label file (magic number 2049)\n",
    "        if magic == 2051:\n",
    "            # Read the number of rows and columns\n",
    "            rows, cols = struct.unpack('>II', f.read(8))\n",
    "            # Read the image data\n",
    "            data = np.fromfile(f, dtype=np.uint8).reshape(num_items, rows, cols)\n",
    "        elif magic == 2049:\n",
    "            # Read the label data\n",
    "            data = np.fromfile(f, dtype=np.uint8)\n",
    "        else:\n",
    "            raise ValueError('Invalid magic number')\n",
    "    return data"
   ]
  },
  {
   "cell_type": "markdown",
   "id": "a732b6da-6ca5-4ddd-bc48-d02682629e86",
   "metadata": {},
   "source": [
    "The MNIST (Modified National Institute of Standards and Technology) data consists of 60,000 training images and 10,000 test images. Each image is a crude 28 x 28 (784 pixels) handwritten digit from \"0\" to \"9.\" Each pixel value is a grayscale integer between 0 and 255."
   ]
  },
  {
   "cell_type": "code",
   "execution_count": 5,
   "id": "eee18cdf-0042-44fb-bc61-484e71109e3a",
   "metadata": {},
   "outputs": [],
   "source": [
    "train_imgs = read_mnist_file(\"./data/mnist/train-images.idx3-ubyte\")\n",
    "test_imgs = read_mnist_file(\"./data/mnist/t10k-images.idx3-ubyte\")\n",
    "train_lbls = read_mnist_file(\"./data/mnist/train-labels.idx1-ubyte\")\n",
    "test_lbls = read_mnist_file(\"./data/mnist/t10k-labels.idx1-ubyte\")"
   ]
  },
  {
   "cell_type": "code",
   "execution_count": 6,
   "id": "c0d73870-e793-4393-b8ea-bed47b6cfa41",
   "metadata": {},
   "outputs": [
    {
     "data": {
      "image/png": "[encoded data removed]",
      "text/plain": [
       "<Figure size 640x480 with 1 Axes>"
      ]
     },
     "metadata": {},
     "output_type": "display_data"
    }
   ],
   "source": [
    "# ref: https://matplotlib.org/stable/tutorials/images.html\n",
    "def display_img(img):\n",
    "    pixels = img.reshape(28, 28)\n",
    "    plt.imshow(pixels, cmap=\"gray\")\n",
    "    plt.show()\n",
    "rando = np.random.randint(0, 60000)\n",
    "display_img(train_imgs[rando])\n",
    "plt.close(\"all\")"
   ]
  },
  {
   "cell_type": "code",
   "execution_count": 7,
   "id": "4b5f6b47-fc5f-4dc0-8738-0162cf6d8ef5",
   "metadata": {},
   "outputs": [],
   "source": [
    "def one_hot_vec(arr):\n",
    "    v = np.zeros((arr.size, arr.max() + 1))\n",
    "    v[np.arange(arr.size), arr] = 1\n",
    "    return v\n",
    "    \n",
    "def normalize_images(imgs):\n",
    "    imgs = imgs.reshape(imgs.shape[0], -1)\n",
    "    imgs = imgs / 255 # normalize by largest RGB value\n",
    "    data_mean = np.mean(imgs.ravel())\n",
    "    data_std = np.std(imgs.ravel())\n",
    "    imgs = (imgs - data_mean) / data_std   \n",
    "    return imgs\n",
    "\n",
    "def create_minibatches(batch_size, X, y):\n",
    "    X, y = shuffle(X, y)\n",
    "    m = X.shape[0]\n",
    "    batches = []\n",
    "    for i in range(0, m, batch_size):\n",
    "        X_batch = X[i: i + batch_size]\n",
    "        y_batch = y[i: i + batch_size]\n",
    "        batches.append((X_batch, y_batch))\n",
    "    return batches\n",
    "        \n",
    "def vectorize_labels(lbls):\n",
    "    return one_hot_vec(lbls)\n"
   ]
  },
  {
   "cell_type": "code",
   "execution_count": 8,
   "id": "953f2d42-3ffc-4a5f-82cb-7c96d6b19d19",
   "metadata": {},
   "outputs": [],
   "source": [
    "class ANN:\n",
    "    def __init__(self, X_train, y_train, X_test, y_test):\n",
    "        self.X_train = X_train\n",
    "        self.y_train = y_train\n",
    "        self.X_test = X_test\n",
    "        self.y_test = y_test\n",
    "        self.optimizer = \"sgd\"\n",
    "        self.batch_size = 32\n",
    "        self.learning_rate = 1e-3\n",
    "        self.input_dims = 784\n",
    "        self.H1 = 100\n",
    "        self.H2 = 80\n",
    "        self.n_epochs = 20000\n",
    "        self.n_out = 10\n",
    "        self.W1 = np.random.rand(self.input_dims, self.H1) * (\n",
    "            np.sqrt(2 / self.input_dims)  # Andrew Ng init\n",
    "        )\n",
    "        self.W2 = np.random.rand(self.H1, self.H2) * (np.sqrt(2 / self.H1))\n",
    "        self.W3 = np.random.rand(self.H2, self.n_out) * (np.sqrt(2 / self.H2))\n",
    "        self.b1 = np.zeros((1, self.H1))\n",
    "        self.b2 = np.zeros((1, self.H2))\n",
    "        self.b3 = np.zeros((1, self.n_out))\n",
    "        self.rmsprop_buffer = {\n",
    "            \"W1\": np.zeros_like(self.W1),\n",
    "            \"W2\": np.zeros_like(self.W2),\n",
    "            \"W3\": np.zeros_like(self.W3),\n",
    "            \"b1\": np.zeros_like(self.b1),\n",
    "            \"b2\": np.zeros_like(self.b2),\n",
    "            \"b3\": np.zeros_like(self.b3),\n",
    "        }\n",
    "\n",
    "    def forward(self, X):\n",
    "        # forward pass\n",
    "        Z1 = np.dot(X, self.W1) + self.b1\n",
    "        A1 = np.maximum(0, Z1)  # relu\n",
    "        Z2 = np.dot(A1, self.W2) + self.b2\n",
    "        A2 = np.maximum(0, Z2)  # relu\n",
    "        Z3 = np.dot(A2, self.W3) + self.b3\n",
    "        Z3 = Z3 - np.max(\n",
    "            Z3, axis=-1, keepdims=True\n",
    "        )  # applying norm due to nans, src: https://stackoverflow.com/questions/54880369/implementation-of-softmax-function-returns-nan-for-high-inputs\n",
    "        A3 = np.exp(Z3) / np.sum(np.exp(Z3), axis=-1, keepdims=True)  # softmax\n",
    "        return A1, A2, A3\n",
    "\n",
    "    def backward(self, X, y, A1, A2, A3):\n",
    "        # backward pass\n",
    "        # l3\n",
    "        dZ3 = A3 - y\n",
    "        dW3 = (1 / X.shape[0]) * np.dot(A2.T, dZ3)\n",
    "        db3 = np.sum(dZ3, axis=0, keepdims=True)\n",
    "        # l2\n",
    "        dA2 = np.dot(dZ3, self.W3.T)\n",
    "        dZ2 = dA2.copy()\n",
    "        dZ2[A2 < 0] = 0\n",
    "        dW2 = (1 / X.shape[0]) * np.dot(A1.T, dZ2)\n",
    "        db2 = np.sum(dZ2, axis=0, keepdims=True)\n",
    "        # l1\n",
    "        dA1 = np.dot(dZ2, self.W2.T)\n",
    "        dZ1 = dA1.copy()  # backprop relu\n",
    "        dZ1[A1 < 0] = 0  # backprop relu\n",
    "        dW1 = (1 / X.shape[0]) * np.dot(X.T, dZ1)\n",
    "        db1 = np.sum(dZ1, axis=0, keepdims=True)\n",
    "        return dW1, db1, dW2, db2, dW3, db3\n",
    "\n",
    "    def loss_fn(self, X, y, act_logits):\n",
    "        L = -(1.0 / X.shape[0]) * np.sum(\n",
    "            y * np.log(act_logits)\n",
    "            + (np.ones_like(y) - y) * np.log(np.ones_like(act_logits) - act_logits)\n",
    "        )  # cost-entropy loss function (CE loss and natural log loss used interchangeably)\n",
    "        return L\n",
    "\n",
    "    def optimize(self, dW1, db1, dW2, db2, dW3, db3):\n",
    "        # TODO: RMSProp does not work\n",
    "        if self.optimizer == \"rmsprop\":\n",
    "            # optimize with rmsprop\n",
    "            self.rmsprop_buffer[\"W1\"] = (\n",
    "                0.9 * self.rmsprop_buffer[\"W1\"] ** 2 + 0.1 * dW1**2\n",
    "            )\n",
    "            self.rmsprop_buffer[\"W2\"] = (\n",
    "                0.9 * self.rmsprop_buffer[\"W2\"] ** 2 + 0.1 * dW2**2\n",
    "            )\n",
    "            self.rmsprop_buffer[\"W3\"] = (\n",
    "                0.9 * self.rmsprop_buffer[\"W3\"] ** 2 + 0.1 * dW3**2\n",
    "            )\n",
    "            self.rmsprop_buffer[\"b1\"] = (\n",
    "                0.9 * self.rmsprop_buffer[\"b1\"] ** 2 + 0.1 * db1**2\n",
    "            )\n",
    "            self.rmsprop_buffer[\"b2\"] = (\n",
    "                0.9 * self.rmsprop_buffer[\"b2\"] ** 2 + 0.1 * db2**2\n",
    "            )\n",
    "            self.rmsprop_buffer[\"b3\"] = (\n",
    "                0.9 * self.rmsprop_buffer[\"b3\"] ** 2 + 0.1 * db3**2\n",
    "            )\n",
    "\n",
    "            self.W1 -= (\n",
    "                self.learning_rate / np.sqrt(self.rmsprop_buffer[\"W1\"] + 0.00001)\n",
    "            ) * dW1\n",
    "            self.W2 -= (\n",
    "                self.learning_rate / np.sqrt(self.rmsprop_buffer[\"W2\"] + 0.00001)\n",
    "            ) * dW2\n",
    "            self.W3 -= (\n",
    "                self.learning_rate / np.sqrt(self.rmsprop_buffer[\"W3\"] + 0.00001)\n",
    "            ) * dW3\n",
    "            self.b1 -= (\n",
    "                self.learning_rate / np.sqrt(self.rmsprop_buffer[\"b1\"] + 0.00001)\n",
    "            ) * db1\n",
    "            self.b2 -= (\n",
    "                self.learning_rate / np.sqrt(self.rmsprop_buffer[\"b2\"] + 0.00001)\n",
    "            ) * db2\n",
    "            self.b3 -= (\n",
    "                self.learning_rate / np.sqrt(self.rmsprop_buffer[\"b3\"] + 0.00001)\n",
    "            ) * db3\n",
    "        else:\n",
    "            # vanilla sgd\n",
    "            self.W1 -= self.learning_rate * dW1\n",
    "            self.W2 -= self.learning_rate * dW2\n",
    "            self.W3 -= self.learning_rate * dW3\n",
    "            self.b1 -= self.learning_rate * db1\n",
    "            self.b2 -= self.learning_rate * db2\n",
    "            self.b3 -= self.learning_rate * db3\n",
    "\n",
    "    def train(self):\n",
    "        losses = []\n",
    "        mini_batches = create_minibatches(self.batch_size, self.X_train, self.y_train)\n",
    "        for i in range(self.n_epochs):\n",
    "            for X_train, y_train in mini_batches:\n",
    "                A1, A2, A3 = self.forward(X_train)\n",
    "                L = self.loss_fn(X_train, y_train, A3)\n",
    "                dW1, db1, dW2, db2, dW3, db3 = self.backward(\n",
    "                    X_train, y_train, A1, A2, A3\n",
    "                )\n",
    "                losses.append(L)\n",
    "                self.optimize(dW1, db1, dW2, db2, dW3, db3)\n",
    "            acc = self.test()\n",
    "            print(f\"epoch loss {i}: {L}, \", f\"accuracy : {acc}\")\n",
    "\n",
    "        sns.lineplot(data=pd.DataFrame(losses, columns=[\"losses\"]))\n",
    "        plt.show()\n",
    "        plt.close()\n",
    "\n",
    "    def test(self):\n",
    "        _, _, logits = self.forward(self.X_test)\n",
    "        predicted = np.argmax(logits, axis=1, keepdims=True)\n",
    "        target = np.argmax(self.y_test, axis=1, keepdims=True)\n",
    "        accuracy = accuracy_score(target.ravel(), predicted.ravel())\n",
    "        return accuracy"
   ]
  },
  {
   "cell_type": "code",
   "execution_count": 9,
   "id": "edfedcb6-c49d-4b4c-b7ea-8e14f08c77cd",
   "metadata": {},
   "outputs": [
    {
     "name": "stdout",
     "output_type": "stream",
     "text": [
      "X_train.shape: (60000, 784)\n",
      "Y_train.shape: (60000, 10)\n",
      "X_test.shape: (10000, 784)\n",
      "Y_test.shape: (10000, 10)\n",
      "epoch loss 0: 2.9258849289021516,  accuracy : 0.2803\n",
      "epoch loss 1: 2.141636718632605,  accuracy : 0.589\n",
      "epoch loss 2: 1.7756737860141731,  accuracy : 0.6871\n"
     ]
    },
    {
     "name": "stderr",
     "output_type": "stream",
     "text": [
      "/var/folders/f6/wq5mxjh56fn3n0322tvlpf700000gn/T/ipykernel_90208/1063372099.py:68: RuntimeWarning: divide by zero encountered in log\n",
      "  + (np.ones_like(y) - y) * np.log(np.ones_like(act_logits) - act_logits)\n",
      "/var/folders/f6/wq5mxjh56fn3n0322tvlpf700000gn/T/ipykernel_90208/1063372099.py:68: RuntimeWarning: invalid value encountered in multiply\n",
      "  + (np.ones_like(y) - y) * np.log(np.ones_like(act_logits) - act_logits)\n"
     ]
    },
    {
     "name": "stdout",
     "output_type": "stream",
     "text": [
      "epoch loss 3: 1.5251030858847954,  accuracy : 0.721\n"
     ]
    },
    {
     "name": "stderr",
     "output_type": "stream",
     "text": [
      "/var/folders/f6/wq5mxjh56fn3n0322tvlpf700000gn/T/ipykernel_90208/1063372099.py:68: RuntimeWarning: divide by zero encountered in log\n",
      "  + (np.ones_like(y) - y) * np.log(np.ones_like(act_logits) - act_logits)\n",
      "/var/folders/f6/wq5mxjh56fn3n0322tvlpf700000gn/T/ipykernel_90208/1063372099.py:68: RuntimeWarning: invalid value encountered in multiply\n",
      "  + (np.ones_like(y) - y) * np.log(np.ones_like(act_logits) - act_logits)\n"
     ]
    },
    {
     "name": "stdout",
     "output_type": "stream",
     "text": [
      "epoch loss 4: 1.3449144910120772,  accuracy : 0.7449\n"
     ]
    },
    {
     "name": "stderr",
     "output_type": "stream",
     "text": [
      "/var/folders/f6/wq5mxjh56fn3n0322tvlpf700000gn/T/ipykernel_90208/1063372099.py:68: RuntimeWarning: divide by zero encountered in log\n",
      "  + (np.ones_like(y) - y) * np.log(np.ones_like(act_logits) - act_logits)\n",
      "/var/folders/f6/wq5mxjh56fn3n0322tvlpf700000gn/T/ipykernel_90208/1063372099.py:68: RuntimeWarning: invalid value encountered in multiply\n",
      "  + (np.ones_like(y) - y) * np.log(np.ones_like(act_logits) - act_logits)\n"
     ]
    },
    {
     "name": "stdout",
     "output_type": "stream",
     "text": [
      "epoch loss 5: 1.2984117968695141,  accuracy : 0.7562\n"
     ]
    },
    {
     "name": "stderr",
     "output_type": "stream",
     "text": [
      "/var/folders/f6/wq5mxjh56fn3n0322tvlpf700000gn/T/ipykernel_90208/1063372099.py:68: RuntimeWarning: divide by zero encountered in log\n",
      "  + (np.ones_like(y) - y) * np.log(np.ones_like(act_logits) - act_logits)\n",
      "/var/folders/f6/wq5mxjh56fn3n0322tvlpf700000gn/T/ipykernel_90208/1063372099.py:68: RuntimeWarning: invalid value encountered in multiply\n",
      "  + (np.ones_like(y) - y) * np.log(np.ones_like(act_logits) - act_logits)\n"
     ]
    },
    {
     "name": "stdout",
     "output_type": "stream",
     "text": [
      "epoch loss 6: 1.4422157364551313,  accuracy : 0.7806\n"
     ]
    },
    {
     "name": "stderr",
     "output_type": "stream",
     "text": [
      "/var/folders/f6/wq5mxjh56fn3n0322tvlpf700000gn/T/ipykernel_90208/1063372099.py:68: RuntimeWarning: divide by zero encountered in log\n",
      "  + (np.ones_like(y) - y) * np.log(np.ones_like(act_logits) - act_logits)\n",
      "/var/folders/f6/wq5mxjh56fn3n0322tvlpf700000gn/T/ipykernel_90208/1063372099.py:68: RuntimeWarning: invalid value encountered in multiply\n",
      "  + (np.ones_like(y) - y) * np.log(np.ones_like(act_logits) - act_logits)\n"
     ]
    },
    {
     "name": "stdout",
     "output_type": "stream",
     "text": [
      "epoch loss 7: 1.4172777902668918,  accuracy : 0.7907\n"
     ]
    },
    {
     "name": "stderr",
     "output_type": "stream",
     "text": [
      "/var/folders/f6/wq5mxjh56fn3n0322tvlpf700000gn/T/ipykernel_90208/1063372099.py:68: RuntimeWarning: divide by zero encountered in log\n",
      "  + (np.ones_like(y) - y) * np.log(np.ones_like(act_logits) - act_logits)\n",
      "/var/folders/f6/wq5mxjh56fn3n0322tvlpf700000gn/T/ipykernel_90208/1063372099.py:68: RuntimeWarning: invalid value encountered in multiply\n",
      "  + (np.ones_like(y) - y) * np.log(np.ones_like(act_logits) - act_logits)\n"
     ]
    },
    {
     "name": "stdout",
     "output_type": "stream",
     "text": [
      "epoch loss 8: 1.4575273060205967,  accuracy : 0.7832\n"
     ]
    },
    {
     "name": "stderr",
     "output_type": "stream",
     "text": [
      "/var/folders/f6/wq5mxjh56fn3n0322tvlpf700000gn/T/ipykernel_90208/1063372099.py:68: RuntimeWarning: divide by zero encountered in log\n",
      "  + (np.ones_like(y) - y) * np.log(np.ones_like(act_logits) - act_logits)\n",
      "/var/folders/f6/wq5mxjh56fn3n0322tvlpf700000gn/T/ipykernel_90208/1063372099.py:68: RuntimeWarning: invalid value encountered in multiply\n",
      "  + (np.ones_like(y) - y) * np.log(np.ones_like(act_logits) - act_logits)\n"
     ]
    },
    {
     "name": "stdout",
     "output_type": "stream",
     "text": [
      "epoch loss 9: nan,  accuracy : 0.784\n"
     ]
    },
    {
     "name": "stderr",
     "output_type": "stream",
     "text": [
      "/var/folders/f6/wq5mxjh56fn3n0322tvlpf700000gn/T/ipykernel_90208/1063372099.py:68: RuntimeWarning: divide by zero encountered in log\n",
      "  + (np.ones_like(y) - y) * np.log(np.ones_like(act_logits) - act_logits)\n",
      "/var/folders/f6/wq5mxjh56fn3n0322tvlpf700000gn/T/ipykernel_90208/1063372099.py:68: RuntimeWarning: invalid value encountered in multiply\n",
      "  + (np.ones_like(y) - y) * np.log(np.ones_like(act_logits) - act_logits)\n"
     ]
    },
    {
     "name": "stdout",
     "output_type": "stream",
     "text": [
      "epoch loss 10: 1.33316498546956,  accuracy : 0.8063\n"
     ]
    },
    {
     "name": "stderr",
     "output_type": "stream",
     "text": [
      "/var/folders/f6/wq5mxjh56fn3n0322tvlpf700000gn/T/ipykernel_90208/1063372099.py:68: RuntimeWarning: divide by zero encountered in log\n",
      "  + (np.ones_like(y) - y) * np.log(np.ones_like(act_logits) - act_logits)\n",
      "/var/folders/f6/wq5mxjh56fn3n0322tvlpf700000gn/T/ipykernel_90208/1063372099.py:68: RuntimeWarning: invalid value encountered in multiply\n",
      "  + (np.ones_like(y) - y) * np.log(np.ones_like(act_logits) - act_logits)\n"
     ]
    },
    {
     "name": "stdout",
     "output_type": "stream",
     "text": [
      "epoch loss 11: 1.3958076482062836,  accuracy : 0.8087\n"
     ]
    },
    {
     "name": "stderr",
     "output_type": "stream",
     "text": [
      "/var/folders/f6/wq5mxjh56fn3n0322tvlpf700000gn/T/ipykernel_90208/1063372099.py:68: RuntimeWarning: divide by zero encountered in log\n",
      "  + (np.ones_like(y) - y) * np.log(np.ones_like(act_logits) - act_logits)\n",
      "/var/folders/f6/wq5mxjh56fn3n0322tvlpf700000gn/T/ipykernel_90208/1063372099.py:68: RuntimeWarning: invalid value encountered in multiply\n",
      "  + (np.ones_like(y) - y) * np.log(np.ones_like(act_logits) - act_logits)\n"
     ]
    },
    {
     "name": "stdout",
     "output_type": "stream",
     "text": [
      "epoch loss 12: 1.480615837763219,  accuracy : 0.8137\n"
     ]
    },
    {
     "name": "stderr",
     "output_type": "stream",
     "text": [
      "/var/folders/f6/wq5mxjh56fn3n0322tvlpf700000gn/T/ipykernel_90208/1063372099.py:68: RuntimeWarning: divide by zero encountered in log\n",
      "  + (np.ones_like(y) - y) * np.log(np.ones_like(act_logits) - act_logits)\n",
      "/var/folders/f6/wq5mxjh56fn3n0322tvlpf700000gn/T/ipykernel_90208/1063372099.py:68: RuntimeWarning: invalid value encountered in multiply\n",
      "  + (np.ones_like(y) - y) * np.log(np.ones_like(act_logits) - act_logits)\n"
     ]
    },
    {
     "name": "stdout",
     "output_type": "stream",
     "text": [
      "epoch loss 13: 1.5159914270159145,  accuracy : 0.8135\n"
     ]
    },
    {
     "name": "stderr",
     "output_type": "stream",
     "text": [
      "/var/folders/f6/wq5mxjh56fn3n0322tvlpf700000gn/T/ipykernel_90208/1063372099.py:68: RuntimeWarning: divide by zero encountered in log\n",
      "  + (np.ones_like(y) - y) * np.log(np.ones_like(act_logits) - act_logits)\n",
      "/var/folders/f6/wq5mxjh56fn3n0322tvlpf700000gn/T/ipykernel_90208/1063372099.py:68: RuntimeWarning: invalid value encountered in multiply\n",
      "  + (np.ones_like(y) - y) * np.log(np.ones_like(act_logits) - act_logits)\n"
     ]
    },
    {
     "name": "stdout",
     "output_type": "stream",
     "text": [
      "epoch loss 14: 1.5468262895845681,  accuracy : 0.8189\n"
     ]
    },
    {
     "name": "stderr",
     "output_type": "stream",
     "text": [
      "/var/folders/f6/wq5mxjh56fn3n0322tvlpf700000gn/T/ipykernel_90208/1063372099.py:68: RuntimeWarning: divide by zero encountered in log\n",
      "  + (np.ones_like(y) - y) * np.log(np.ones_like(act_logits) - act_logits)\n",
      "/var/folders/f6/wq5mxjh56fn3n0322tvlpf700000gn/T/ipykernel_90208/1063372099.py:68: RuntimeWarning: invalid value encountered in multiply\n",
      "  + (np.ones_like(y) - y) * np.log(np.ones_like(act_logits) - act_logits)\n"
     ]
    },
    {
     "name": "stdout",
     "output_type": "stream",
     "text": [
      "epoch loss 15: 1.906624584391714,  accuracy : 0.8214\n"
     ]
    },
    {
     "name": "stderr",
     "output_type": "stream",
     "text": [
      "/var/folders/f6/wq5mxjh56fn3n0322tvlpf700000gn/T/ipykernel_90208/1063372099.py:68: RuntimeWarning: divide by zero encountered in log\n",
      "  + (np.ones_like(y) - y) * np.log(np.ones_like(act_logits) - act_logits)\n",
      "/var/folders/f6/wq5mxjh56fn3n0322tvlpf700000gn/T/ipykernel_90208/1063372099.py:68: RuntimeWarning: invalid value encountered in multiply\n",
      "  + (np.ones_like(y) - y) * np.log(np.ones_like(act_logits) - act_logits)\n"
     ]
    },
    {
     "name": "stdout",
     "output_type": "stream",
     "text": [
      "epoch loss 16: 1.960793503831703,  accuracy : 0.8235\n"
     ]
    },
    {
     "name": "stderr",
     "output_type": "stream",
     "text": [
      "/var/folders/f6/wq5mxjh56fn3n0322tvlpf700000gn/T/ipykernel_90208/1063372099.py:68: RuntimeWarning: divide by zero encountered in log\n",
      "  + (np.ones_like(y) - y) * np.log(np.ones_like(act_logits) - act_logits)\n",
      "/var/folders/f6/wq5mxjh56fn3n0322tvlpf700000gn/T/ipykernel_90208/1063372099.py:68: RuntimeWarning: invalid value encountered in multiply\n",
      "  + (np.ones_like(y) - y) * np.log(np.ones_like(act_logits) - act_logits)\n"
     ]
    },
    {
     "name": "stdout",
     "output_type": "stream",
     "text": [
      "epoch loss 17: 1.9815599752001387,  accuracy : 0.823\n"
     ]
    },
    {
     "name": "stderr",
     "output_type": "stream",
     "text": [
      "/var/folders/f6/wq5mxjh56fn3n0322tvlpf700000gn/T/ipykernel_90208/1063372099.py:68: RuntimeWarning: divide by zero encountered in log\n",
      "  + (np.ones_like(y) - y) * np.log(np.ones_like(act_logits) - act_logits)\n",
      "/var/folders/f6/wq5mxjh56fn3n0322tvlpf700000gn/T/ipykernel_90208/1063372099.py:68: RuntimeWarning: invalid value encountered in multiply\n",
      "  + (np.ones_like(y) - y) * np.log(np.ones_like(act_logits) - act_logits)\n"
     ]
    },
    {
     "name": "stdout",
     "output_type": "stream",
     "text": [
      "epoch loss 18: 2.014281844089626,  accuracy : 0.8252\n"
     ]
    },
    {
     "name": "stderr",
     "output_type": "stream",
     "text": [
      "/var/folders/f6/wq5mxjh56fn3n0322tvlpf700000gn/T/ipykernel_90208/1063372099.py:68: RuntimeWarning: divide by zero encountered in log\n",
      "  + (np.ones_like(y) - y) * np.log(np.ones_like(act_logits) - act_logits)\n",
      "/var/folders/f6/wq5mxjh56fn3n0322tvlpf700000gn/T/ipykernel_90208/1063372099.py:68: RuntimeWarning: invalid value encountered in multiply\n",
      "  + (np.ones_like(y) - y) * np.log(np.ones_like(act_logits) - act_logits)\n"
     ]
    },
    {
     "name": "stdout",
     "output_type": "stream",
     "text": [
      "epoch loss 19: 2.0311972074316893,  accuracy : 0.827\n"
     ]
    },
    {
     "name": "stderr",
     "output_type": "stream",
     "text": [
      "/var/folders/f6/wq5mxjh56fn3n0322tvlpf700000gn/T/ipykernel_90208/1063372099.py:68: RuntimeWarning: divide by zero encountered in log\n",
      "  + (np.ones_like(y) - y) * np.log(np.ones_like(act_logits) - act_logits)\n",
      "/var/folders/f6/wq5mxjh56fn3n0322tvlpf700000gn/T/ipykernel_90208/1063372099.py:68: RuntimeWarning: invalid value encountered in multiply\n",
      "  + (np.ones_like(y) - y) * np.log(np.ones_like(act_logits) - act_logits)\n"
     ]
    },
    {
     "name": "stdout",
     "output_type": "stream",
     "text": [
      "epoch loss 20: 2.0113143531727053,  accuracy : 0.83\n"
     ]
    },
    {
     "name": "stderr",
     "output_type": "stream",
     "text": [
      "/var/folders/f6/wq5mxjh56fn3n0322tvlpf700000gn/T/ipykernel_90208/1063372099.py:68: RuntimeWarning: divide by zero encountered in log\n",
      "  + (np.ones_like(y) - y) * np.log(np.ones_like(act_logits) - act_logits)\n",
      "/var/folders/f6/wq5mxjh56fn3n0322tvlpf700000gn/T/ipykernel_90208/1063372099.py:68: RuntimeWarning: invalid value encountered in multiply\n",
      "  + (np.ones_like(y) - y) * np.log(np.ones_like(act_logits) - act_logits)\n"
     ]
    },
    {
     "name": "stdout",
     "output_type": "stream",
     "text": [
      "epoch loss 21: 1.976865117110794,  accuracy : 0.8321\n"
     ]
    },
    {
     "name": "stderr",
     "output_type": "stream",
     "text": [
      "/var/folders/f6/wq5mxjh56fn3n0322tvlpf700000gn/T/ipykernel_90208/1063372099.py:68: RuntimeWarning: divide by zero encountered in log\n",
      "  + (np.ones_like(y) - y) * np.log(np.ones_like(act_logits) - act_logits)\n",
      "/var/folders/f6/wq5mxjh56fn3n0322tvlpf700000gn/T/ipykernel_90208/1063372099.py:68: RuntimeWarning: invalid value encountered in multiply\n",
      "  + (np.ones_like(y) - y) * np.log(np.ones_like(act_logits) - act_logits)\n"
     ]
    },
    {
     "name": "stdout",
     "output_type": "stream",
     "text": [
      "epoch loss 22: 1.9385398935335965,  accuracy : 0.8341\n"
     ]
    },
    {
     "name": "stderr",
     "output_type": "stream",
     "text": [
      "/var/folders/f6/wq5mxjh56fn3n0322tvlpf700000gn/T/ipykernel_90208/1063372099.py:68: RuntimeWarning: divide by zero encountered in log\n",
      "  + (np.ones_like(y) - y) * np.log(np.ones_like(act_logits) - act_logits)\n",
      "/var/folders/f6/wq5mxjh56fn3n0322tvlpf700000gn/T/ipykernel_90208/1063372099.py:68: RuntimeWarning: invalid value encountered in multiply\n",
      "  + (np.ones_like(y) - y) * np.log(np.ones_like(act_logits) - act_logits)\n"
     ]
    },
    {
     "name": "stdout",
     "output_type": "stream",
     "text": [
      "epoch loss 23: 1.881090050108163,  accuracy : 0.8355\n"
     ]
    },
    {
     "name": "stderr",
     "output_type": "stream",
     "text": [
      "/var/folders/f6/wq5mxjh56fn3n0322tvlpf700000gn/T/ipykernel_90208/1063372099.py:68: RuntimeWarning: divide by zero encountered in log\n",
      "  + (np.ones_like(y) - y) * np.log(np.ones_like(act_logits) - act_logits)\n",
      "/var/folders/f6/wq5mxjh56fn3n0322tvlpf700000gn/T/ipykernel_90208/1063372099.py:68: RuntimeWarning: invalid value encountered in multiply\n",
      "  + (np.ones_like(y) - y) * np.log(np.ones_like(act_logits) - act_logits)\n"
     ]
    },
    {
     "name": "stdout",
     "output_type": "stream",
     "text": [
      "epoch loss 24: 1.821999158073656,  accuracy : 0.8366\n"
     ]
    },
    {
     "name": "stderr",
     "output_type": "stream",
     "text": [
      "/var/folders/f6/wq5mxjh56fn3n0322tvlpf700000gn/T/ipykernel_90208/1063372099.py:68: RuntimeWarning: divide by zero encountered in log\n",
      "  + (np.ones_like(y) - y) * np.log(np.ones_like(act_logits) - act_logits)\n",
      "/var/folders/f6/wq5mxjh56fn3n0322tvlpf700000gn/T/ipykernel_90208/1063372099.py:68: RuntimeWarning: invalid value encountered in multiply\n",
      "  + (np.ones_like(y) - y) * np.log(np.ones_like(act_logits) - act_logits)\n"
     ]
    },
    {
     "name": "stdout",
     "output_type": "stream",
     "text": [
      "epoch loss 25: 1.7601676576242413,  accuracy : 0.8375\n"
     ]
    },
    {
     "name": "stderr",
     "output_type": "stream",
     "text": [
      "/var/folders/f6/wq5mxjh56fn3n0322tvlpf700000gn/T/ipykernel_90208/1063372099.py:68: RuntimeWarning: divide by zero encountered in log\n",
      "  + (np.ones_like(y) - y) * np.log(np.ones_like(act_logits) - act_logits)\n",
      "/var/folders/f6/wq5mxjh56fn3n0322tvlpf700000gn/T/ipykernel_90208/1063372099.py:68: RuntimeWarning: invalid value encountered in multiply\n",
      "  + (np.ones_like(y) - y) * np.log(np.ones_like(act_logits) - act_logits)\n"
     ]
    },
    {
     "name": "stdout",
     "output_type": "stream",
     "text": [
      "epoch loss 26: 1.6934812401193877,  accuracy : 0.8396\n"
     ]
    },
    {
     "name": "stderr",
     "output_type": "stream",
     "text": [
      "/var/folders/f6/wq5mxjh56fn3n0322tvlpf700000gn/T/ipykernel_90208/1063372099.py:68: RuntimeWarning: divide by zero encountered in log\n",
      "  + (np.ones_like(y) - y) * np.log(np.ones_like(act_logits) - act_logits)\n",
      "/var/folders/f6/wq5mxjh56fn3n0322tvlpf700000gn/T/ipykernel_90208/1063372099.py:68: RuntimeWarning: invalid value encountered in multiply\n",
      "  + (np.ones_like(y) - y) * np.log(np.ones_like(act_logits) - act_logits)\n"
     ]
    },
    {
     "name": "stdout",
     "output_type": "stream",
     "text": [
      "epoch loss 27: 1.6276814028633053,  accuracy : 0.8415\n"
     ]
    },
    {
     "name": "stderr",
     "output_type": "stream",
     "text": [
      "/var/folders/f6/wq5mxjh56fn3n0322tvlpf700000gn/T/ipykernel_90208/1063372099.py:68: RuntimeWarning: divide by zero encountered in log\n",
      "  + (np.ones_like(y) - y) * np.log(np.ones_like(act_logits) - act_logits)\n",
      "/var/folders/f6/wq5mxjh56fn3n0322tvlpf700000gn/T/ipykernel_90208/1063372099.py:68: RuntimeWarning: invalid value encountered in multiply\n",
      "  + (np.ones_like(y) - y) * np.log(np.ones_like(act_logits) - act_logits)\n"
     ]
    },
    {
     "name": "stdout",
     "output_type": "stream",
     "text": [
      "epoch loss 28: 1.5592187546247969,  accuracy : 0.8423\n"
     ]
    },
    {
     "name": "stderr",
     "output_type": "stream",
     "text": [
      "/var/folders/f6/wq5mxjh56fn3n0322tvlpf700000gn/T/ipykernel_90208/1063372099.py:68: RuntimeWarning: divide by zero encountered in log\n",
      "  + (np.ones_like(y) - y) * np.log(np.ones_like(act_logits) - act_logits)\n",
      "/var/folders/f6/wq5mxjh56fn3n0322tvlpf700000gn/T/ipykernel_90208/1063372099.py:68: RuntimeWarning: invalid value encountered in multiply\n",
      "  + (np.ones_like(y) - y) * np.log(np.ones_like(act_logits) - act_logits)\n"
     ]
    },
    {
     "name": "stdout",
     "output_type": "stream",
     "text": [
      "epoch loss 29: 1.4881682461714676,  accuracy : 0.8441\n"
     ]
    },
    {
     "name": "stderr",
     "output_type": "stream",
     "text": [
      "/var/folders/f6/wq5mxjh56fn3n0322tvlpf700000gn/T/ipykernel_90208/1063372099.py:68: RuntimeWarning: divide by zero encountered in log\n",
      "  + (np.ones_like(y) - y) * np.log(np.ones_like(act_logits) - act_logits)\n",
      "/var/folders/f6/wq5mxjh56fn3n0322tvlpf700000gn/T/ipykernel_90208/1063372099.py:68: RuntimeWarning: invalid value encountered in multiply\n",
      "  + (np.ones_like(y) - y) * np.log(np.ones_like(act_logits) - act_logits)\n"
     ]
    },
    {
     "name": "stdout",
     "output_type": "stream",
     "text": [
      "epoch loss 30: 1.4172400722021643,  accuracy : 0.8452\n"
     ]
    },
    {
     "name": "stderr",
     "output_type": "stream",
     "text": [
      "/var/folders/f6/wq5mxjh56fn3n0322tvlpf700000gn/T/ipykernel_90208/1063372099.py:68: RuntimeWarning: divide by zero encountered in log\n",
      "  + (np.ones_like(y) - y) * np.log(np.ones_like(act_logits) - act_logits)\n",
      "/var/folders/f6/wq5mxjh56fn3n0322tvlpf700000gn/T/ipykernel_90208/1063372099.py:68: RuntimeWarning: invalid value encountered in multiply\n",
      "  + (np.ones_like(y) - y) * np.log(np.ones_like(act_logits) - act_logits)\n"
     ]
    },
    {
     "name": "stdout",
     "output_type": "stream",
     "text": [
      "epoch loss 31: 1.3502797061948404,  accuracy : 0.8453\n"
     ]
    },
    {
     "name": "stderr",
     "output_type": "stream",
     "text": [
      "/var/folders/f6/wq5mxjh56fn3n0322tvlpf700000gn/T/ipykernel_90208/1063372099.py:68: RuntimeWarning: divide by zero encountered in log\n",
      "  + (np.ones_like(y) - y) * np.log(np.ones_like(act_logits) - act_logits)\n",
      "/var/folders/f6/wq5mxjh56fn3n0322tvlpf700000gn/T/ipykernel_90208/1063372099.py:68: RuntimeWarning: invalid value encountered in multiply\n",
      "  + (np.ones_like(y) - y) * np.log(np.ones_like(act_logits) - act_logits)\n"
     ]
    },
    {
     "name": "stdout",
     "output_type": "stream",
     "text": [
      "epoch loss 32: 1.2885359803820151,  accuracy : 0.8446\n"
     ]
    },
    {
     "name": "stderr",
     "output_type": "stream",
     "text": [
      "/var/folders/f6/wq5mxjh56fn3n0322tvlpf700000gn/T/ipykernel_90208/1063372099.py:68: RuntimeWarning: divide by zero encountered in log\n",
      "  + (np.ones_like(y) - y) * np.log(np.ones_like(act_logits) - act_logits)\n",
      "/var/folders/f6/wq5mxjh56fn3n0322tvlpf700000gn/T/ipykernel_90208/1063372099.py:68: RuntimeWarning: invalid value encountered in multiply\n",
      "  + (np.ones_like(y) - y) * np.log(np.ones_like(act_logits) - act_logits)\n"
     ]
    },
    {
     "name": "stdout",
     "output_type": "stream",
     "text": [
      "epoch loss 33: 1.2364215452236786,  accuracy : 0.8442\n"
     ]
    },
    {
     "name": "stderr",
     "output_type": "stream",
     "text": [
      "/var/folders/f6/wq5mxjh56fn3n0322tvlpf700000gn/T/ipykernel_90208/1063372099.py:68: RuntimeWarning: divide by zero encountered in log\n",
      "  + (np.ones_like(y) - y) * np.log(np.ones_like(act_logits) - act_logits)\n",
      "/var/folders/f6/wq5mxjh56fn3n0322tvlpf700000gn/T/ipykernel_90208/1063372099.py:68: RuntimeWarning: invalid value encountered in multiply\n",
      "  + (np.ones_like(y) - y) * np.log(np.ones_like(act_logits) - act_logits)\n"
     ]
    },
    {
     "name": "stdout",
     "output_type": "stream",
     "text": [
      "epoch loss 34: 1.1919293016774473,  accuracy : 0.8428\n"
     ]
    },
    {
     "name": "stderr",
     "output_type": "stream",
     "text": [
      "/var/folders/f6/wq5mxjh56fn3n0322tvlpf700000gn/T/ipykernel_90208/1063372099.py:68: RuntimeWarning: divide by zero encountered in log\n",
      "  + (np.ones_like(y) - y) * np.log(np.ones_like(act_logits) - act_logits)\n",
      "/var/folders/f6/wq5mxjh56fn3n0322tvlpf700000gn/T/ipykernel_90208/1063372099.py:68: RuntimeWarning: invalid value encountered in multiply\n",
      "  + (np.ones_like(y) - y) * np.log(np.ones_like(act_logits) - act_logits)\n"
     ]
    },
    {
     "name": "stdout",
     "output_type": "stream",
     "text": [
      "epoch loss 35: 1.1597131777011054,  accuracy : 0.843\n"
     ]
    },
    {
     "name": "stderr",
     "output_type": "stream",
     "text": [
      "/var/folders/f6/wq5mxjh56fn3n0322tvlpf700000gn/T/ipykernel_90208/1063372099.py:68: RuntimeWarning: divide by zero encountered in log\n",
      "  + (np.ones_like(y) - y) * np.log(np.ones_like(act_logits) - act_logits)\n",
      "/var/folders/f6/wq5mxjh56fn3n0322tvlpf700000gn/T/ipykernel_90208/1063372099.py:68: RuntimeWarning: invalid value encountered in multiply\n",
      "  + (np.ones_like(y) - y) * np.log(np.ones_like(act_logits) - act_logits)\n"
     ]
    },
    {
     "name": "stdout",
     "output_type": "stream",
     "text": [
      "epoch loss 36: 1.1328313719897671,  accuracy : 0.8419\n"
     ]
    },
    {
     "name": "stderr",
     "output_type": "stream",
     "text": [
      "/var/folders/f6/wq5mxjh56fn3n0322tvlpf700000gn/T/ipykernel_90208/1063372099.py:68: RuntimeWarning: divide by zero encountered in log\n",
      "  + (np.ones_like(y) - y) * np.log(np.ones_like(act_logits) - act_logits)\n",
      "/var/folders/f6/wq5mxjh56fn3n0322tvlpf700000gn/T/ipykernel_90208/1063372099.py:68: RuntimeWarning: invalid value encountered in multiply\n",
      "  + (np.ones_like(y) - y) * np.log(np.ones_like(act_logits) - act_logits)\n"
     ]
    },
    {
     "name": "stdout",
     "output_type": "stream",
     "text": [
      "epoch loss 37: 1.1134713714862103,  accuracy : 0.8421\n"
     ]
    },
    {
     "name": "stderr",
     "output_type": "stream",
     "text": [
      "/var/folders/f6/wq5mxjh56fn3n0322tvlpf700000gn/T/ipykernel_90208/1063372099.py:68: RuntimeWarning: divide by zero encountered in log\n",
      "  + (np.ones_like(y) - y) * np.log(np.ones_like(act_logits) - act_logits)\n",
      "/var/folders/f6/wq5mxjh56fn3n0322tvlpf700000gn/T/ipykernel_90208/1063372099.py:68: RuntimeWarning: invalid value encountered in multiply\n",
      "  + (np.ones_like(y) - y) * np.log(np.ones_like(act_logits) - act_logits)\n"
     ]
    },
    {
     "name": "stdout",
     "output_type": "stream",
     "text": [
      "epoch loss 38: 1.0916362899930994,  accuracy : 0.8427\n"
     ]
    },
    {
     "name": "stderr",
     "output_type": "stream",
     "text": [
      "/var/folders/f6/wq5mxjh56fn3n0322tvlpf700000gn/T/ipykernel_90208/1063372099.py:68: RuntimeWarning: divide by zero encountered in log\n",
      "  + (np.ones_like(y) - y) * np.log(np.ones_like(act_logits) - act_logits)\n",
      "/var/folders/f6/wq5mxjh56fn3n0322tvlpf700000gn/T/ipykernel_90208/1063372099.py:68: RuntimeWarning: invalid value encountered in multiply\n",
      "  + (np.ones_like(y) - y) * np.log(np.ones_like(act_logits) - act_logits)\n"
     ]
    },
    {
     "name": "stdout",
     "output_type": "stream",
     "text": [
      "epoch loss 39: 1.0700884674896387,  accuracy : 0.8438\n",
      "epoch loss 40: 1.047924365969952,  accuracy : 0.8454\n",
      "epoch loss 41: 1.02757162022959,  accuracy : 0.8458\n",
      "epoch loss 42: 1.0088911185250775,  accuracy : 0.8467\n",
      "epoch loss 43: 0.9963415065201178,  accuracy : 0.847\n",
      "epoch loss 44: 0.9848086435202834,  accuracy : 0.8483\n",
      "epoch loss 45: 0.9666930843277454,  accuracy : 0.8487\n",
      "epoch loss 46: 0.9542044051430025,  accuracy : 0.8496\n",
      "epoch loss 47: 0.9481960972815707,  accuracy : 0.8503\n",
      "epoch loss 48: 0.9456896744996589,  accuracy : 0.8505\n",
      "epoch loss 49: 0.9438258095529253,  accuracy : 0.8516\n",
      "epoch loss 50: 0.9411500246855664,  accuracy : 0.852\n",
      "epoch loss 51: 0.9330512200362873,  accuracy : 0.8519\n",
      "epoch loss 52: 0.9224498075447597,  accuracy : 0.8523\n",
      "epoch loss 53: 0.9146229683295853,  accuracy : 0.8525\n",
      "epoch loss 54: 0.9083028016009832,  accuracy : 0.8525\n",
      "epoch loss 55: 0.9017345629075844,  accuracy : 0.8534\n",
      "epoch loss 56: 0.8925611417407654,  accuracy : 0.8531\n",
      "epoch loss 57: 0.8857746898910118,  accuracy : 0.8544\n",
      "epoch loss 58: 0.8778455622983736,  accuracy : 0.854\n",
      "epoch loss 59: 0.8698916061692716,  accuracy : 0.8546\n",
      "epoch loss 60: 0.8626330013712667,  accuracy : 0.855\n",
      "epoch loss 61: 0.8534920802926769,  accuracy : 0.8551\n",
      "epoch loss 62: 0.843689555653369,  accuracy : 0.8561\n",
      "epoch loss 63: 0.8351315217785223,  accuracy : 0.8566\n",
      "epoch loss 64: 0.8269683508172359,  accuracy : 0.8572\n",
      "epoch loss 65: 0.8205496804977002,  accuracy : 0.8574\n",
      "epoch loss 66: 0.8141194793351,  accuracy : 0.8577\n",
      "epoch loss 67: 0.8081154736456025,  accuracy : 0.8583\n",
      "epoch loss 68: 0.800435654331143,  accuracy : 0.8588\n",
      "epoch loss 69: 0.7884802012993382,  accuracy : 0.8602\n",
      "epoch loss 70: 0.7752171398935065,  accuracy : 0.861\n",
      "epoch loss 71: 0.7588475740499125,  accuracy : 0.8622\n",
      "epoch loss 72: 0.736918873425595,  accuracy : 0.8636\n",
      "epoch loss 73: 0.7160823191641387,  accuracy : 0.8649\n",
      "epoch loss 74: 0.7037576447236752,  accuracy : 0.8652\n",
      "epoch loss 75: 0.6986432751306242,  accuracy : 0.8656\n",
      "epoch loss 76: 0.6969364548988259,  accuracy : 0.8674\n",
      "epoch loss 77: 0.6973184163536624,  accuracy : 0.868\n",
      "epoch loss 78: 0.6989993549726579,  accuracy : 0.8697\n",
      "epoch loss 79: 0.7022837520434124,  accuracy : 0.8711\n",
      "epoch loss 80: 0.7052852846301765,  accuracy : 0.8717\n",
      "epoch loss 81: 0.6954524379152187,  accuracy : 0.8725\n",
      "epoch loss 82: 0.6909314214934952,  accuracy : 0.8743\n",
      "epoch loss 83: 0.6844642912145611,  accuracy : 0.8756\n",
      "epoch loss 84: 0.6752103246487502,  accuracy : 0.8773\n",
      "epoch loss 85: 0.6659263261929091,  accuracy : 0.879\n",
      "epoch loss 86: 0.6589885847609165,  accuracy : 0.8798\n",
      "epoch loss 87: 0.6549538988718471,  accuracy : 0.8825\n",
      "epoch loss 88: 0.6523664698642627,  accuracy : 0.8844\n",
      "epoch loss 89: 0.6496652813290412,  accuracy : 0.8867\n",
      "epoch loss 90: 0.6454489468658956,  accuracy : 0.8889\n",
      "epoch loss 91: 0.6390132106918385,  accuracy : 0.8911\n",
      "epoch loss 92: 0.6335723641429184,  accuracy : 0.894\n",
      "epoch loss 93: 0.6298165059188581,  accuracy : 0.8946\n",
      "epoch loss 94: 0.6269813885254312,  accuracy : 0.8952\n",
      "epoch loss 95: 0.6221943236002238,  accuracy : 0.8963\n",
      "epoch loss 96: 0.6170375691372897,  accuracy : 0.8971\n",
      "epoch loss 97: 0.613051495723103,  accuracy : 0.8981\n",
      "epoch loss 98: 0.6091994529410955,  accuracy : 0.899\n",
      "epoch loss 99: 0.6053503203136634,  accuracy : 0.8995\n",
      "epoch loss 100: 0.6040177321407318,  accuracy : 0.9\n",
      "epoch loss 101: 0.6035321674370253,  accuracy : 0.9012\n",
      "epoch loss 102: 0.6035608976641921,  accuracy : 0.9018\n",
      "epoch loss 103: 0.6039156957166676,  accuracy : 0.9022\n",
      "epoch loss 104: 0.6041187573940627,  accuracy : 0.9028\n",
      "epoch loss 105: 0.6033980922984108,  accuracy : 0.9033\n",
      "epoch loss 106: 0.6021635794792817,  accuracy : 0.9041\n",
      "epoch loss 107: 0.6002867876723582,  accuracy : 0.9047\n",
      "epoch loss 108: 0.5981067604253973,  accuracy : 0.9053\n",
      "epoch loss 109: 0.596289897499696,  accuracy : 0.9058\n",
      "epoch loss 110: 0.5946379437197662,  accuracy : 0.9065\n",
      "epoch loss 111: 0.5929070822045747,  accuracy : 0.9074\n",
      "epoch loss 112: 0.5913554324562135,  accuracy : 0.9083\n",
      "epoch loss 113: 0.5891831007110159,  accuracy : 0.9088\n",
      "epoch loss 114: 0.5865059581717565,  accuracy : 0.9089\n",
      "epoch loss 115: 0.5834932087763086,  accuracy : 0.9096\n",
      "epoch loss 116: 0.5805368919757301,  accuracy : 0.9104\n",
      "epoch loss 117: 0.5792208919636332,  accuracy : 0.9108\n",
      "epoch loss 118: 0.5790768112006637,  accuracy : 0.9113\n",
      "epoch loss 119: 0.5793128320318252,  accuracy : 0.9117\n",
      "epoch loss 120: 0.5796110094998856,  accuracy : 0.912\n",
      "epoch loss 121: 0.5800168000605088,  accuracy : 0.9124\n",
      "epoch loss 122: 0.580876727836046,  accuracy : 0.9127\n",
      "epoch loss 123: 0.5817448587654175,  accuracy : 0.9129\n",
      "epoch loss 124: 0.5821158063002532,  accuracy : 0.913\n",
      "epoch loss 125: 0.5813841583479205,  accuracy : 0.9137\n",
      "epoch loss 126: 0.5806287226946818,  accuracy : 0.9139\n",
      "epoch loss 127: 0.5801742757078491,  accuracy : 0.9141\n",
      "epoch loss 128: 0.5799297936790273,  accuracy : 0.9145\n",
      "epoch loss 129: 0.579781891060493,  accuracy : 0.9143\n",
      "epoch loss 130: 0.5798654537643857,  accuracy : 0.9145\n",
      "epoch loss 131: 0.5801576174880807,  accuracy : 0.9152\n",
      "epoch loss 132: 0.5799354936500496,  accuracy : 0.9148\n",
      "epoch loss 133: 0.5790921742921683,  accuracy : 0.9153\n",
      "epoch loss 134: 0.5788851300155913,  accuracy : 0.9151\n",
      "epoch loss 135: 0.5791972877139516,  accuracy : 0.9151\n",
      "epoch loss 136: 0.5802222436120662,  accuracy : 0.916\n",
      "epoch loss 137: 0.5809503097003341,  accuracy : 0.9161\n",
      "epoch loss 138: 0.5818325505708302,  accuracy : 0.9166\n",
      "epoch loss 139: 0.5822652680200333,  accuracy : 0.9167\n",
      "epoch loss 140: 0.582477597307953,  accuracy : 0.9169\n",
      "epoch loss 141: 0.582794904729371,  accuracy : 0.9173\n",
      "epoch loss 142: 0.5830200983273812,  accuracy : 0.9177\n",
      "epoch loss 143: 0.5834696782656688,  accuracy : 0.9174\n",
      "epoch loss 144: 0.584037197286237,  accuracy : 0.9178\n",
      "epoch loss 145: 0.5848447432328798,  accuracy : 0.9179\n",
      "epoch loss 146: 0.5857592193905132,  accuracy : 0.918\n",
      "epoch loss 147: 0.5874861140856759,  accuracy : 0.9185\n",
      "epoch loss 148: 0.5888549511493782,  accuracy : 0.9178\n",
      "epoch loss 149: 0.5894739478598457,  accuracy : 0.918\n",
      "epoch loss 150: 0.589895905759679,  accuracy : 0.918\n",
      "epoch loss 151: 0.5904154239699112,  accuracy : 0.9187\n",
      "epoch loss 152: 0.5910508907863797,  accuracy : 0.9184\n",
      "epoch loss 153: 0.5914912250623023,  accuracy : 0.9183\n",
      "epoch loss 154: 0.5909376608747736,  accuracy : 0.9185\n",
      "epoch loss 155: 0.5898129533829677,  accuracy : 0.9184\n",
      "epoch loss 156: 0.5889698880653866,  accuracy : 0.9185\n",
      "epoch loss 157: 0.5872043762578556,  accuracy : 0.9186\n",
      "epoch loss 158: 0.5842343992577189,  accuracy : 0.9187\n",
      "epoch loss 159: 0.5813515631279944,  accuracy : 0.919\n",
      "epoch loss 160: 0.578170179880622,  accuracy : 0.9191\n",
      "epoch loss 161: 0.5750324627881314,  accuracy : 0.919\n",
      "epoch loss 162: 0.5717750036375935,  accuracy : 0.9191\n",
      "epoch loss 163: 0.5687700502839439,  accuracy : 0.9194\n",
      "epoch loss 164: 0.5662109775218467,  accuracy : 0.9194\n",
      "epoch loss 165: 0.5611580759703076,  accuracy : 0.9194\n",
      "epoch loss 166: 0.5561800502185377,  accuracy : 0.9193\n",
      "epoch loss 167: 0.5514105016594998,  accuracy : 0.9192\n",
      "epoch loss 168: 0.5466413403964556,  accuracy : 0.9192\n",
      "epoch loss 169: 0.5421535518633334,  accuracy : 0.9187\n",
      "epoch loss 170: 0.5357800353881013,  accuracy : 0.9186\n",
      "epoch loss 171: 0.529150590655616,  accuracy : 0.9189\n",
      "epoch loss 172: 0.5227885776288841,  accuracy : 0.9189\n",
      "epoch loss 173: 0.5165502023613346,  accuracy : 0.919\n",
      "epoch loss 174: 0.5104739871075158,  accuracy : 0.9192\n",
      "epoch loss 175: 0.5046732792850193,  accuracy : 0.9195\n",
      "epoch loss 176: 0.4993342220857965,  accuracy : 0.9195\n",
      "epoch loss 177: 0.494132791517506,  accuracy : 0.9193\n",
      "epoch loss 178: 0.48929636396655773,  accuracy : 0.9189\n",
      "epoch loss 179: 0.48512307751042266,  accuracy : 0.9194\n",
      "epoch loss 180: 0.48126315897296457,  accuracy : 0.9196\n",
      "epoch loss 181: 0.4778946761773105,  accuracy : 0.9196\n",
      "epoch loss 182: 0.47545854434849477,  accuracy : 0.9195\n",
      "epoch loss 183: 0.47311964608360896,  accuracy : 0.9195\n",
      "epoch loss 184: 0.47125332570345213,  accuracy : 0.9198\n",
      "epoch loss 185: 0.46961831608148047,  accuracy : 0.9203\n",
      "epoch loss 186: 0.46787455098659975,  accuracy : 0.9201\n",
      "epoch loss 187: 0.4661553793483194,  accuracy : 0.9201\n",
      "epoch loss 188: 0.4646699827927707,  accuracy : 0.9201\n",
      "epoch loss 189: 0.4632925056578422,  accuracy : 0.9205\n",
      "epoch loss 190: 0.46199081089887195,  accuracy : 0.9205\n",
      "epoch loss 191: 0.46078891924783594,  accuracy : 0.9205\n",
      "epoch loss 192: 0.4597679842273027,  accuracy : 0.921\n",
      "epoch loss 193: 0.4587883514704362,  accuracy : 0.9207\n",
      "epoch loss 194: 0.457820818771171,  accuracy : 0.9209\n",
      "epoch loss 195: 0.4569848142335778,  accuracy : 0.9213\n",
      "epoch loss 196: 0.4562193170759679,  accuracy : 0.9216\n",
      "epoch loss 197: 0.45561279610369976,  accuracy : 0.9214\n",
      "epoch loss 198: 0.4550459972976266,  accuracy : 0.9217\n",
      "epoch loss 199: 0.4544326571097488,  accuracy : 0.9219\n",
      "epoch loss 200: 0.4534726497619173,  accuracy : 0.9218\n",
      "epoch loss 201: 0.4523543923342037,  accuracy : 0.9219\n",
      "epoch loss 202: 0.45127146493998016,  accuracy : 0.9217\n",
      "epoch loss 203: 0.45024786187268584,  accuracy : 0.9214\n",
      "epoch loss 204: 0.4495148091707969,  accuracy : 0.9213\n",
      "epoch loss 205: 0.44885744513845377,  accuracy : 0.9215\n",
      "epoch loss 206: 0.44812539802330664,  accuracy : 0.9215\n",
      "epoch loss 207: 0.44744505260823975,  accuracy : 0.9215\n",
      "epoch loss 208: 0.44700254596913236,  accuracy : 0.9218\n",
      "epoch loss 209: 0.4466908816967442,  accuracy : 0.922\n",
      "epoch loss 210: 0.44601195068543403,  accuracy : 0.9224\n",
      "epoch loss 211: 0.44517372757601364,  accuracy : 0.9223\n",
      "epoch loss 212: 0.44440746894788785,  accuracy : 0.9227\n",
      "epoch loss 213: 0.4437418275963107,  accuracy : 0.9226\n",
      "epoch loss 214: 0.44315794390075025,  accuracy : 0.9227\n",
      "epoch loss 215: 0.4426901242145803,  accuracy : 0.9229\n",
      "epoch loss 216: 0.4422861303165765,  accuracy : 0.9228\n",
      "epoch loss 217: 0.4420106953613606,  accuracy : 0.9229\n",
      "epoch loss 218: 0.44193937257932975,  accuracy : 0.923\n",
      "epoch loss 219: 0.4419938994433793,  accuracy : 0.9232\n",
      "epoch loss 220: 0.44212749439115295,  accuracy : 0.9235\n",
      "epoch loss 221: 0.44208219453696107,  accuracy : 0.9238\n",
      "epoch loss 222: 0.442016594098022,  accuracy : 0.9234\n",
      "epoch loss 223: 0.44194636773698703,  accuracy : 0.9234\n",
      "epoch loss 224: 0.4418514218217686,  accuracy : 0.9232\n",
      "epoch loss 225: 0.4418591075232975,  accuracy : 0.9231\n",
      "epoch loss 226: 0.44149893266036877,  accuracy : 0.9235\n",
      "epoch loss 227: 0.4410122158331655,  accuracy : 0.9233\n",
      "epoch loss 228: 0.4405374967945429,  accuracy : 0.9234\n",
      "epoch loss 229: 0.4400456946049622,  accuracy : 0.9235\n",
      "epoch loss 230: 0.43951446912936787,  accuracy : 0.9235\n",
      "epoch loss 231: 0.43894048960003945,  accuracy : 0.9235\n",
      "epoch loss 232: 0.43829514449099866,  accuracy : 0.9235\n",
      "epoch loss 233: 0.43745543485250116,  accuracy : 0.9233\n",
      "epoch loss 234: 0.43653906507393564,  accuracy : 0.9233\n",
      "epoch loss 235: 0.4354610205966935,  accuracy : 0.9235\n",
      "epoch loss 236: 0.4342359608968811,  accuracy : 0.9238\n",
      "epoch loss 237: 0.43292087977378546,  accuracy : 0.9241\n",
      "epoch loss 238: 0.43143168393829673,  accuracy : 0.9243\n",
      "epoch loss 239: 0.4299207404952835,  accuracy : 0.9244\n",
      "epoch loss 240: 0.42836959867741414,  accuracy : 0.9243\n",
      "epoch loss 241: 0.426783261202074,  accuracy : 0.9243\n",
      "epoch loss 242: 0.42528774872404235,  accuracy : 0.9244\n",
      "epoch loss 243: 0.4239125707471929,  accuracy : 0.9243\n",
      "epoch loss 244: 0.4223852706257655,  accuracy : 0.9244\n",
      "epoch loss 245: 0.42079374009127934,  accuracy : 0.9245\n",
      "epoch loss 246: 0.4192390798259626,  accuracy : 0.9244\n",
      "epoch loss 247: 0.41773606316885525,  accuracy : 0.9247\n",
      "epoch loss 248: 0.4163110904310213,  accuracy : 0.9251\n",
      "epoch loss 249: 0.41496460714395533,  accuracy : 0.9252\n",
      "epoch loss 250: 0.4139443257400464,  accuracy : 0.9254\n",
      "epoch loss 251: 0.4133484363468969,  accuracy : 0.9256\n",
      "epoch loss 252: 0.41286142008693605,  accuracy : 0.9256\n",
      "epoch loss 253: 0.41261529353247983,  accuracy : 0.9258\n",
      "epoch loss 254: 0.41219552555540073,  accuracy : 0.926\n",
      "epoch loss 255: 0.4117394759155131,  accuracy : 0.9261\n",
      "epoch loss 256: 0.4113398455625129,  accuracy : 0.9267\n",
      "epoch loss 257: 0.4110061436623536,  accuracy : 0.9266\n",
      "epoch loss 258: 0.41060804750810553,  accuracy : 0.9265\n",
      "epoch loss 259: 0.41020301420667005,  accuracy : 0.9265\n",
      "epoch loss 260: 0.40979116711933977,  accuracy : 0.9265\n",
      "epoch loss 261: 0.409400197383453,  accuracy : 0.9265\n",
      "epoch loss 262: 0.4089693443162897,  accuracy : 0.9265\n",
      "epoch loss 263: 0.4085668672047034,  accuracy : 0.9266\n",
      "epoch loss 264: 0.4081790665677033,  accuracy : 0.9264\n",
      "epoch loss 265: 0.40775695605475965,  accuracy : 0.9267\n",
      "epoch loss 266: 0.40732103912872825,  accuracy : 0.9267\n",
      "epoch loss 267: 0.40695026970570425,  accuracy : 0.9267\n",
      "epoch loss 268: 0.4067113980571333,  accuracy : 0.9268\n",
      "epoch loss 269: 0.4066549349704352,  accuracy : 0.9268\n",
      "epoch loss 270: 0.4066588899816106,  accuracy : 0.9272\n",
      "epoch loss 271: 0.4066684740700884,  accuracy : 0.9273\n",
      "epoch loss 272: 0.40675058530064523,  accuracy : 0.9274\n",
      "epoch loss 273: 0.40686887720216114,  accuracy : 0.9271\n",
      "epoch loss 274: 0.4070369579286593,  accuracy : 0.9269\n",
      "epoch loss 275: 0.4072028419508655,  accuracy : 0.9267\n",
      "epoch loss 276: 0.4073814451143867,  accuracy : 0.927\n",
      "epoch loss 277: 0.40765499937139216,  accuracy : 0.9265\n",
      "epoch loss 278: 0.40797472542266344,  accuracy : 0.9267\n",
      "epoch loss 279: 0.4083074253244734,  accuracy : 0.9263\n",
      "epoch loss 280: 0.4086052269950834,  accuracy : 0.926\n",
      "epoch loss 281: 0.40895111673753914,  accuracy : 0.9259\n",
      "epoch loss 282: 0.40942249297330163,  accuracy : 0.926\n",
      "epoch loss 283: 0.40996297838459117,  accuracy : 0.926\n",
      "epoch loss 284: 0.41050857618251835,  accuracy : 0.9258\n",
      "epoch loss 285: 0.4110905303033831,  accuracy : 0.9262\n",
      "epoch loss 286: 0.41176613680820406,  accuracy : 0.9265\n",
      "epoch loss 287: 0.41259316284002623,  accuracy : 0.9262\n",
      "epoch loss 288: 0.41316435521517675,  accuracy : 0.926\n",
      "epoch loss 289: 0.41376025059110805,  accuracy : 0.9259\n",
      "epoch loss 290: 0.414100071704533,  accuracy : 0.926\n",
      "epoch loss 291: 0.41448723997678394,  accuracy : 0.9258\n",
      "epoch loss 292: 0.41486854701271875,  accuracy : 0.9259\n",
      "epoch loss 293: 0.415241055775172,  accuracy : 0.926\n",
      "epoch loss 294: 0.41563553488002075,  accuracy : 0.9262\n",
      "epoch loss 295: 0.41609614451091653,  accuracy : 0.9264\n",
      "epoch loss 296: 0.4165337889507274,  accuracy : 0.9263\n",
      "epoch loss 297: 0.4172673930138371,  accuracy : 0.9263\n",
      "epoch loss 298: 0.4180271672134196,  accuracy : 0.9262\n",
      "epoch loss 299: 0.41880383945369526,  accuracy : 0.9264\n",
      "epoch loss 300: 0.4196025990231301,  accuracy : 0.9266\n",
      "epoch loss 301: 0.42050754069107493,  accuracy : 0.9267\n",
      "epoch loss 302: 0.42136328755674185,  accuracy : 0.9266\n",
      "epoch loss 303: 0.4220690779666932,  accuracy : 0.9266\n",
      "epoch loss 304: 0.4227394997936278,  accuracy : 0.9266\n",
      "epoch loss 305: 0.4234349635316133,  accuracy : 0.9266\n",
      "epoch loss 306: 0.4241733614202107,  accuracy : 0.9266\n",
      "epoch loss 307: 0.4250055709774055,  accuracy : 0.9265\n",
      "epoch loss 308: 0.42582603257663376,  accuracy : 0.9265\n",
      "epoch loss 309: 0.42617756858850464,  accuracy : 0.9264\n",
      "epoch loss 310: 0.42659233831899235,  accuracy : 0.9266\n",
      "epoch loss 311: 0.4270743340765144,  accuracy : 0.9266\n",
      "epoch loss 312: 0.4275674325749731,  accuracy : 0.9266\n",
      "epoch loss 313: 0.42793721158142245,  accuracy : 0.9266\n",
      "epoch loss 314: 0.4282491762356885,  accuracy : 0.9269\n",
      "epoch loss 315: 0.4283763259431015,  accuracy : 0.9268\n",
      "epoch loss 316: 0.4285064423525647,  accuracy : 0.9269\n",
      "epoch loss 317: 0.4287251799798049,  accuracy : 0.9268\n",
      "epoch loss 318: 0.4289703484802943,  accuracy : 0.9268\n",
      "epoch loss 319: 0.4291703469781707,  accuracy : 0.9268\n",
      "epoch loss 320: 0.42930231646902267,  accuracy : 0.9268\n",
      "epoch loss 321: 0.4294183634750249,  accuracy : 0.9267\n",
      "epoch loss 322: 0.42925353287639395,  accuracy : 0.9264\n",
      "epoch loss 323: 0.42906727882797785,  accuracy : 0.927\n",
      "epoch loss 324: 0.4289128028805844,  accuracy : 0.9269\n",
      "epoch loss 325: 0.4287813600122377,  accuracy : 0.9269\n",
      "epoch loss 326: 0.42865204558390796,  accuracy : 0.9277\n",
      "epoch loss 327: 0.42854351760998194,  accuracy : 0.9279\n",
      "epoch loss 328: 0.4284464586569341,  accuracy : 0.9277\n",
      "epoch loss 329: 0.42834167463927375,  accuracy : 0.9275\n",
      "epoch loss 330: 0.42827575827179676,  accuracy : 0.9275\n",
      "epoch loss 331: 0.4284270953734803,  accuracy : 0.9274\n",
      "epoch loss 332: 0.42865602112665496,  accuracy : 0.9273\n",
      "epoch loss 333: 0.4288948808408024,  accuracy : 0.9271\n"
     ]
    },
    {
     "name": "stderr",
     "output_type": "stream",
     "text": [
      "/var/folders/f6/wq5mxjh56fn3n0322tvlpf700000gn/T/ipykernel_90208/1063372099.py:68: RuntimeWarning: divide by zero encountered in log\n",
      "  + (np.ones_like(y) - y) * np.log(np.ones_like(act_logits) - act_logits)\n",
      "/var/folders/f6/wq5mxjh56fn3n0322tvlpf700000gn/T/ipykernel_90208/1063372099.py:68: RuntimeWarning: invalid value encountered in multiply\n",
      "  + (np.ones_like(y) - y) * np.log(np.ones_like(act_logits) - act_logits)\n"
     ]
    },
    {
     "name": "stdout",
     "output_type": "stream",
     "text": [
      "epoch loss 334: 0.42914597577827385,  accuracy : 0.9273\n"
     ]
    },
    {
     "name": "stderr",
     "output_type": "stream",
     "text": [
      "/var/folders/f6/wq5mxjh56fn3n0322tvlpf700000gn/T/ipykernel_90208/1063372099.py:68: RuntimeWarning: divide by zero encountered in log\n",
      "  + (np.ones_like(y) - y) * np.log(np.ones_like(act_logits) - act_logits)\n",
      "/var/folders/f6/wq5mxjh56fn3n0322tvlpf700000gn/T/ipykernel_90208/1063372099.py:68: RuntimeWarning: invalid value encountered in multiply\n",
      "  + (np.ones_like(y) - y) * np.log(np.ones_like(act_logits) - act_logits)\n"
     ]
    },
    {
     "name": "stdout",
     "output_type": "stream",
     "text": [
      "epoch loss 335: 0.4293870987488284,  accuracy : 0.9278\n"
     ]
    },
    {
     "name": "stderr",
     "output_type": "stream",
     "text": [
      "/var/folders/f6/wq5mxjh56fn3n0322tvlpf700000gn/T/ipykernel_90208/1063372099.py:68: RuntimeWarning: divide by zero encountered in log\n",
      "  + (np.ones_like(y) - y) * np.log(np.ones_like(act_logits) - act_logits)\n",
      "/var/folders/f6/wq5mxjh56fn3n0322tvlpf700000gn/T/ipykernel_90208/1063372099.py:68: RuntimeWarning: invalid value encountered in multiply\n",
      "  + (np.ones_like(y) - y) * np.log(np.ones_like(act_logits) - act_logits)\n"
     ]
    },
    {
     "name": "stdout",
     "output_type": "stream",
     "text": [
      "epoch loss 336: 0.42960384074929403,  accuracy : 0.9278\n"
     ]
    },
    {
     "name": "stderr",
     "output_type": "stream",
     "text": [
      "/var/folders/f6/wq5mxjh56fn3n0322tvlpf700000gn/T/ipykernel_90208/1063372099.py:68: RuntimeWarning: divide by zero encountered in log\n",
      "  + (np.ones_like(y) - y) * np.log(np.ones_like(act_logits) - act_logits)\n",
      "/var/folders/f6/wq5mxjh56fn3n0322tvlpf700000gn/T/ipykernel_90208/1063372099.py:68: RuntimeWarning: invalid value encountered in multiply\n",
      "  + (np.ones_like(y) - y) * np.log(np.ones_like(act_logits) - act_logits)\n"
     ]
    },
    {
     "name": "stdout",
     "output_type": "stream",
     "text": [
      "epoch loss 337: 0.42992822717520507,  accuracy : 0.9279\n"
     ]
    },
    {
     "name": "stderr",
     "output_type": "stream",
     "text": [
      "/var/folders/f6/wq5mxjh56fn3n0322tvlpf700000gn/T/ipykernel_90208/1063372099.py:68: RuntimeWarning: divide by zero encountered in log\n",
      "  + (np.ones_like(y) - y) * np.log(np.ones_like(act_logits) - act_logits)\n",
      "/var/folders/f6/wq5mxjh56fn3n0322tvlpf700000gn/T/ipykernel_90208/1063372099.py:68: RuntimeWarning: invalid value encountered in multiply\n",
      "  + (np.ones_like(y) - y) * np.log(np.ones_like(act_logits) - act_logits)\n"
     ]
    },
    {
     "name": "stdout",
     "output_type": "stream",
     "text": [
      "epoch loss 338: 0.4303431715013944,  accuracy : 0.9278\n"
     ]
    },
    {
     "name": "stderr",
     "output_type": "stream",
     "text": [
      "/var/folders/f6/wq5mxjh56fn3n0322tvlpf700000gn/T/ipykernel_90208/1063372099.py:68: RuntimeWarning: divide by zero encountered in log\n",
      "  + (np.ones_like(y) - y) * np.log(np.ones_like(act_logits) - act_logits)\n",
      "/var/folders/f6/wq5mxjh56fn3n0322tvlpf700000gn/T/ipykernel_90208/1063372099.py:68: RuntimeWarning: invalid value encountered in multiply\n",
      "  + (np.ones_like(y) - y) * np.log(np.ones_like(act_logits) - act_logits)\n"
     ]
    },
    {
     "name": "stdout",
     "output_type": "stream",
     "text": [
      "epoch loss 339: 0.4306363820481916,  accuracy : 0.9279\n"
     ]
    },
    {
     "name": "stderr",
     "output_type": "stream",
     "text": [
      "/var/folders/f6/wq5mxjh56fn3n0322tvlpf700000gn/T/ipykernel_90208/1063372099.py:68: RuntimeWarning: divide by zero encountered in log\n",
      "  + (np.ones_like(y) - y) * np.log(np.ones_like(act_logits) - act_logits)\n",
      "/var/folders/f6/wq5mxjh56fn3n0322tvlpf700000gn/T/ipykernel_90208/1063372099.py:68: RuntimeWarning: invalid value encountered in multiply\n",
      "  + (np.ones_like(y) - y) * np.log(np.ones_like(act_logits) - act_logits)\n"
     ]
    },
    {
     "name": "stdout",
     "output_type": "stream",
     "text": [
      "epoch loss 340: 0.43090173343270277,  accuracy : 0.9279\n"
     ]
    },
    {
     "name": "stderr",
     "output_type": "stream",
     "text": [
      "/var/folders/f6/wq5mxjh56fn3n0322tvlpf700000gn/T/ipykernel_90208/1063372099.py:68: RuntimeWarning: divide by zero encountered in log\n",
      "  + (np.ones_like(y) - y) * np.log(np.ones_like(act_logits) - act_logits)\n",
      "/var/folders/f6/wq5mxjh56fn3n0322tvlpf700000gn/T/ipykernel_90208/1063372099.py:68: RuntimeWarning: invalid value encountered in multiply\n",
      "  + (np.ones_like(y) - y) * np.log(np.ones_like(act_logits) - act_logits)\n"
     ]
    },
    {
     "name": "stdout",
     "output_type": "stream",
     "text": [
      "epoch loss 341: 0.4311436396496674,  accuracy : 0.9276\n"
     ]
    },
    {
     "name": "stderr",
     "output_type": "stream",
     "text": [
      "/var/folders/f6/wq5mxjh56fn3n0322tvlpf700000gn/T/ipykernel_90208/1063372099.py:68: RuntimeWarning: divide by zero encountered in log\n",
      "  + (np.ones_like(y) - y) * np.log(np.ones_like(act_logits) - act_logits)\n",
      "/var/folders/f6/wq5mxjh56fn3n0322tvlpf700000gn/T/ipykernel_90208/1063372099.py:68: RuntimeWarning: invalid value encountered in multiply\n",
      "  + (np.ones_like(y) - y) * np.log(np.ones_like(act_logits) - act_logits)\n"
     ]
    },
    {
     "name": "stdout",
     "output_type": "stream",
     "text": [
      "epoch loss 342: 0.43133011136776045,  accuracy : 0.9273\n"
     ]
    },
    {
     "name": "stderr",
     "output_type": "stream",
     "text": [
      "/var/folders/f6/wq5mxjh56fn3n0322tvlpf700000gn/T/ipykernel_90208/1063372099.py:68: RuntimeWarning: divide by zero encountered in log\n",
      "  + (np.ones_like(y) - y) * np.log(np.ones_like(act_logits) - act_logits)\n",
      "/var/folders/f6/wq5mxjh56fn3n0322tvlpf700000gn/T/ipykernel_90208/1063372099.py:68: RuntimeWarning: invalid value encountered in multiply\n",
      "  + (np.ones_like(y) - y) * np.log(np.ones_like(act_logits) - act_logits)\n"
     ]
    },
    {
     "name": "stdout",
     "output_type": "stream",
     "text": [
      "epoch loss 343: 0.4314658588708701,  accuracy : 0.9274\n"
     ]
    },
    {
     "name": "stderr",
     "output_type": "stream",
     "text": [
      "/var/folders/f6/wq5mxjh56fn3n0322tvlpf700000gn/T/ipykernel_90208/1063372099.py:68: RuntimeWarning: divide by zero encountered in log\n",
      "  + (np.ones_like(y) - y) * np.log(np.ones_like(act_logits) - act_logits)\n",
      "/var/folders/f6/wq5mxjh56fn3n0322tvlpf700000gn/T/ipykernel_90208/1063372099.py:68: RuntimeWarning: invalid value encountered in multiply\n",
      "  + (np.ones_like(y) - y) * np.log(np.ones_like(act_logits) - act_logits)\n"
     ]
    },
    {
     "name": "stdout",
     "output_type": "stream",
     "text": [
      "epoch loss 344: 0.43152834937370943,  accuracy : 0.9273\n"
     ]
    },
    {
     "name": "stderr",
     "output_type": "stream",
     "text": [
      "/var/folders/f6/wq5mxjh56fn3n0322tvlpf700000gn/T/ipykernel_90208/1063372099.py:68: RuntimeWarning: divide by zero encountered in log\n",
      "  + (np.ones_like(y) - y) * np.log(np.ones_like(act_logits) - act_logits)\n",
      "/var/folders/f6/wq5mxjh56fn3n0322tvlpf700000gn/T/ipykernel_90208/1063372099.py:68: RuntimeWarning: invalid value encountered in multiply\n",
      "  + (np.ones_like(y) - y) * np.log(np.ones_like(act_logits) - act_logits)\n"
     ]
    },
    {
     "name": "stdout",
     "output_type": "stream",
     "text": [
      "epoch loss 345: 0.43159976673272527,  accuracy : 0.9272\n"
     ]
    },
    {
     "name": "stderr",
     "output_type": "stream",
     "text": [
      "/var/folders/f6/wq5mxjh56fn3n0322tvlpf700000gn/T/ipykernel_90208/1063372099.py:68: RuntimeWarning: divide by zero encountered in log\n",
      "  + (np.ones_like(y) - y) * np.log(np.ones_like(act_logits) - act_logits)\n",
      "/var/folders/f6/wq5mxjh56fn3n0322tvlpf700000gn/T/ipykernel_90208/1063372099.py:68: RuntimeWarning: invalid value encountered in multiply\n",
      "  + (np.ones_like(y) - y) * np.log(np.ones_like(act_logits) - act_logits)\n"
     ]
    },
    {
     "name": "stdout",
     "output_type": "stream",
     "text": [
      "epoch loss 346: 0.4316682698498803,  accuracy : 0.9272\n"
     ]
    },
    {
     "name": "stderr",
     "output_type": "stream",
     "text": [
      "/var/folders/f6/wq5mxjh56fn3n0322tvlpf700000gn/T/ipykernel_90208/1063372099.py:68: RuntimeWarning: divide by zero encountered in log\n",
      "  + (np.ones_like(y) - y) * np.log(np.ones_like(act_logits) - act_logits)\n",
      "/var/folders/f6/wq5mxjh56fn3n0322tvlpf700000gn/T/ipykernel_90208/1063372099.py:68: RuntimeWarning: invalid value encountered in multiply\n",
      "  + (np.ones_like(y) - y) * np.log(np.ones_like(act_logits) - act_logits)\n"
     ]
    },
    {
     "name": "stdout",
     "output_type": "stream",
     "text": [
      "epoch loss 347: 0.43170871536539984,  accuracy : 0.9275\n"
     ]
    },
    {
     "name": "stderr",
     "output_type": "stream",
     "text": [
      "/var/folders/f6/wq5mxjh56fn3n0322tvlpf700000gn/T/ipykernel_90208/1063372099.py:68: RuntimeWarning: divide by zero encountered in log\n",
      "  + (np.ones_like(y) - y) * np.log(np.ones_like(act_logits) - act_logits)\n",
      "/var/folders/f6/wq5mxjh56fn3n0322tvlpf700000gn/T/ipykernel_90208/1063372099.py:68: RuntimeWarning: invalid value encountered in multiply\n",
      "  + (np.ones_like(y) - y) * np.log(np.ones_like(act_logits) - act_logits)\n"
     ]
    },
    {
     "name": "stdout",
     "output_type": "stream",
     "text": [
      "epoch loss 348: 0.43178979883884777,  accuracy : 0.9276\n"
     ]
    },
    {
     "name": "stderr",
     "output_type": "stream",
     "text": [
      "/var/folders/f6/wq5mxjh56fn3n0322tvlpf700000gn/T/ipykernel_90208/1063372099.py:68: RuntimeWarning: divide by zero encountered in log\n",
      "  + (np.ones_like(y) - y) * np.log(np.ones_like(act_logits) - act_logits)\n",
      "/var/folders/f6/wq5mxjh56fn3n0322tvlpf700000gn/T/ipykernel_90208/1063372099.py:68: RuntimeWarning: invalid value encountered in multiply\n",
      "  + (np.ones_like(y) - y) * np.log(np.ones_like(act_logits) - act_logits)\n"
     ]
    },
    {
     "name": "stdout",
     "output_type": "stream",
     "text": [
      "epoch loss 349: 0.43188167762715635,  accuracy : 0.9275\n"
     ]
    },
    {
     "name": "stderr",
     "output_type": "stream",
     "text": [
      "/var/folders/f6/wq5mxjh56fn3n0322tvlpf700000gn/T/ipykernel_90208/1063372099.py:68: RuntimeWarning: divide by zero encountered in log\n",
      "  + (np.ones_like(y) - y) * np.log(np.ones_like(act_logits) - act_logits)\n",
      "/var/folders/f6/wq5mxjh56fn3n0322tvlpf700000gn/T/ipykernel_90208/1063372099.py:68: RuntimeWarning: invalid value encountered in multiply\n",
      "  + (np.ones_like(y) - y) * np.log(np.ones_like(act_logits) - act_logits)\n"
     ]
    },
    {
     "name": "stdout",
     "output_type": "stream",
     "text": [
      "epoch loss 350: 0.4318314206509638,  accuracy : 0.9277\n"
     ]
    },
    {
     "name": "stderr",
     "output_type": "stream",
     "text": [
      "/var/folders/f6/wq5mxjh56fn3n0322tvlpf700000gn/T/ipykernel_90208/1063372099.py:68: RuntimeWarning: divide by zero encountered in log\n",
      "  + (np.ones_like(y) - y) * np.log(np.ones_like(act_logits) - act_logits)\n",
      "/var/folders/f6/wq5mxjh56fn3n0322tvlpf700000gn/T/ipykernel_90208/1063372099.py:68: RuntimeWarning: invalid value encountered in multiply\n",
      "  + (np.ones_like(y) - y) * np.log(np.ones_like(act_logits) - act_logits)\n"
     ]
    },
    {
     "name": "stdout",
     "output_type": "stream",
     "text": [
      "epoch loss 351: 0.43179363357709244,  accuracy : 0.9276\n"
     ]
    },
    {
     "name": "stderr",
     "output_type": "stream",
     "text": [
      "/var/folders/f6/wq5mxjh56fn3n0322tvlpf700000gn/T/ipykernel_90208/1063372099.py:68: RuntimeWarning: divide by zero encountered in log\n",
      "  + (np.ones_like(y) - y) * np.log(np.ones_like(act_logits) - act_logits)\n",
      "/var/folders/f6/wq5mxjh56fn3n0322tvlpf700000gn/T/ipykernel_90208/1063372099.py:68: RuntimeWarning: invalid value encountered in multiply\n",
      "  + (np.ones_like(y) - y) * np.log(np.ones_like(act_logits) - act_logits)\n"
     ]
    },
    {
     "name": "stdout",
     "output_type": "stream",
     "text": [
      "epoch loss 352: 0.4319054403018019,  accuracy : 0.9274\n"
     ]
    },
    {
     "name": "stderr",
     "output_type": "stream",
     "text": [
      "/var/folders/f6/wq5mxjh56fn3n0322tvlpf700000gn/T/ipykernel_90208/1063372099.py:68: RuntimeWarning: divide by zero encountered in log\n",
      "  + (np.ones_like(y) - y) * np.log(np.ones_like(act_logits) - act_logits)\n",
      "/var/folders/f6/wq5mxjh56fn3n0322tvlpf700000gn/T/ipykernel_90208/1063372099.py:68: RuntimeWarning: invalid value encountered in multiply\n",
      "  + (np.ones_like(y) - y) * np.log(np.ones_like(act_logits) - act_logits)\n"
     ]
    },
    {
     "name": "stdout",
     "output_type": "stream",
     "text": [
      "epoch loss 353: 0.43200354694653026,  accuracy : 0.9274\n"
     ]
    },
    {
     "name": "stderr",
     "output_type": "stream",
     "text": [
      "/var/folders/f6/wq5mxjh56fn3n0322tvlpf700000gn/T/ipykernel_90208/1063372099.py:68: RuntimeWarning: divide by zero encountered in log\n",
      "  + (np.ones_like(y) - y) * np.log(np.ones_like(act_logits) - act_logits)\n",
      "/var/folders/f6/wq5mxjh56fn3n0322tvlpf700000gn/T/ipykernel_90208/1063372099.py:68: RuntimeWarning: invalid value encountered in multiply\n",
      "  + (np.ones_like(y) - y) * np.log(np.ones_like(act_logits) - act_logits)\n"
     ]
    },
    {
     "name": "stdout",
     "output_type": "stream",
     "text": [
      "epoch loss 354: 0.43218110792663184,  accuracy : 0.9274\n"
     ]
    },
    {
     "name": "stderr",
     "output_type": "stream",
     "text": [
      "/var/folders/f6/wq5mxjh56fn3n0322tvlpf700000gn/T/ipykernel_90208/1063372099.py:68: RuntimeWarning: divide by zero encountered in log\n",
      "  + (np.ones_like(y) - y) * np.log(np.ones_like(act_logits) - act_logits)\n",
      "/var/folders/f6/wq5mxjh56fn3n0322tvlpf700000gn/T/ipykernel_90208/1063372099.py:68: RuntimeWarning: invalid value encountered in multiply\n",
      "  + (np.ones_like(y) - y) * np.log(np.ones_like(act_logits) - act_logits)\n"
     ]
    },
    {
     "name": "stdout",
     "output_type": "stream",
     "text": [
      "epoch loss 355: 0.432482454665717,  accuracy : 0.9275\n"
     ]
    },
    {
     "name": "stderr",
     "output_type": "stream",
     "text": [
      "/var/folders/f6/wq5mxjh56fn3n0322tvlpf700000gn/T/ipykernel_90208/1063372099.py:68: RuntimeWarning: divide by zero encountered in log\n",
      "  + (np.ones_like(y) - y) * np.log(np.ones_like(act_logits) - act_logits)\n",
      "/var/folders/f6/wq5mxjh56fn3n0322tvlpf700000gn/T/ipykernel_90208/1063372099.py:68: RuntimeWarning: invalid value encountered in multiply\n",
      "  + (np.ones_like(y) - y) * np.log(np.ones_like(act_logits) - act_logits)\n"
     ]
    },
    {
     "name": "stdout",
     "output_type": "stream",
     "text": [
      "epoch loss 356: 0.43277657794477,  accuracy : 0.9276\n"
     ]
    },
    {
     "name": "stderr",
     "output_type": "stream",
     "text": [
      "/var/folders/f6/wq5mxjh56fn3n0322tvlpf700000gn/T/ipykernel_90208/1063372099.py:68: RuntimeWarning: divide by zero encountered in log\n",
      "  + (np.ones_like(y) - y) * np.log(np.ones_like(act_logits) - act_logits)\n",
      "/var/folders/f6/wq5mxjh56fn3n0322tvlpf700000gn/T/ipykernel_90208/1063372099.py:68: RuntimeWarning: invalid value encountered in multiply\n",
      "  + (np.ones_like(y) - y) * np.log(np.ones_like(act_logits) - act_logits)\n"
     ]
    },
    {
     "name": "stdout",
     "output_type": "stream",
     "text": [
      "epoch loss 357: 0.43293752904172444,  accuracy : 0.9275\n"
     ]
    },
    {
     "name": "stderr",
     "output_type": "stream",
     "text": [
      "/var/folders/f6/wq5mxjh56fn3n0322tvlpf700000gn/T/ipykernel_90208/1063372099.py:68: RuntimeWarning: divide by zero encountered in log\n",
      "  + (np.ones_like(y) - y) * np.log(np.ones_like(act_logits) - act_logits)\n",
      "/var/folders/f6/wq5mxjh56fn3n0322tvlpf700000gn/T/ipykernel_90208/1063372099.py:68: RuntimeWarning: invalid value encountered in multiply\n",
      "  + (np.ones_like(y) - y) * np.log(np.ones_like(act_logits) - act_logits)\n"
     ]
    },
    {
     "name": "stdout",
     "output_type": "stream",
     "text": [
      "epoch loss 358: 0.43277788797819416,  accuracy : 0.9276\n"
     ]
    },
    {
     "name": "stderr",
     "output_type": "stream",
     "text": [
      "/var/folders/f6/wq5mxjh56fn3n0322tvlpf700000gn/T/ipykernel_90208/1063372099.py:68: RuntimeWarning: divide by zero encountered in log\n",
      "  + (np.ones_like(y) - y) * np.log(np.ones_like(act_logits) - act_logits)\n",
      "/var/folders/f6/wq5mxjh56fn3n0322tvlpf700000gn/T/ipykernel_90208/1063372099.py:68: RuntimeWarning: invalid value encountered in multiply\n",
      "  + (np.ones_like(y) - y) * np.log(np.ones_like(act_logits) - act_logits)\n"
     ]
    },
    {
     "name": "stdout",
     "output_type": "stream",
     "text": [
      "epoch loss 359: 0.4326573898245994,  accuracy : 0.9278\n"
     ]
    },
    {
     "name": "stderr",
     "output_type": "stream",
     "text": [
      "/var/folders/f6/wq5mxjh56fn3n0322tvlpf700000gn/T/ipykernel_90208/1063372099.py:68: RuntimeWarning: divide by zero encountered in log\n",
      "  + (np.ones_like(y) - y) * np.log(np.ones_like(act_logits) - act_logits)\n",
      "/var/folders/f6/wq5mxjh56fn3n0322tvlpf700000gn/T/ipykernel_90208/1063372099.py:68: RuntimeWarning: invalid value encountered in multiply\n",
      "  + (np.ones_like(y) - y) * np.log(np.ones_like(act_logits) - act_logits)\n"
     ]
    },
    {
     "name": "stdout",
     "output_type": "stream",
     "text": [
      "epoch loss 360: 0.43249140863743973,  accuracy : 0.928\n"
     ]
    },
    {
     "name": "stderr",
     "output_type": "stream",
     "text": [
      "/var/folders/f6/wq5mxjh56fn3n0322tvlpf700000gn/T/ipykernel_90208/1063372099.py:68: RuntimeWarning: divide by zero encountered in log\n",
      "  + (np.ones_like(y) - y) * np.log(np.ones_like(act_logits) - act_logits)\n",
      "/var/folders/f6/wq5mxjh56fn3n0322tvlpf700000gn/T/ipykernel_90208/1063372099.py:68: RuntimeWarning: invalid value encountered in multiply\n",
      "  + (np.ones_like(y) - y) * np.log(np.ones_like(act_logits) - act_logits)\n"
     ]
    },
    {
     "name": "stdout",
     "output_type": "stream",
     "text": [
      "epoch loss 361: 0.43228482716552685,  accuracy : 0.9283\n"
     ]
    },
    {
     "name": "stderr",
     "output_type": "stream",
     "text": [
      "/var/folders/f6/wq5mxjh56fn3n0322tvlpf700000gn/T/ipykernel_90208/1063372099.py:68: RuntimeWarning: divide by zero encountered in log\n",
      "  + (np.ones_like(y) - y) * np.log(np.ones_like(act_logits) - act_logits)\n",
      "/var/folders/f6/wq5mxjh56fn3n0322tvlpf700000gn/T/ipykernel_90208/1063372099.py:68: RuntimeWarning: invalid value encountered in multiply\n",
      "  + (np.ones_like(y) - y) * np.log(np.ones_like(act_logits) - act_logits)\n"
     ]
    },
    {
     "name": "stdout",
     "output_type": "stream",
     "text": [
      "epoch loss 362: 0.43208764189742743,  accuracy : 0.9285\n"
     ]
    },
    {
     "name": "stderr",
     "output_type": "stream",
     "text": [
      "/var/folders/f6/wq5mxjh56fn3n0322tvlpf700000gn/T/ipykernel_90208/1063372099.py:68: RuntimeWarning: divide by zero encountered in log\n",
      "  + (np.ones_like(y) - y) * np.log(np.ones_like(act_logits) - act_logits)\n",
      "/var/folders/f6/wq5mxjh56fn3n0322tvlpf700000gn/T/ipykernel_90208/1063372099.py:68: RuntimeWarning: invalid value encountered in multiply\n",
      "  + (np.ones_like(y) - y) * np.log(np.ones_like(act_logits) - act_logits)\n"
     ]
    },
    {
     "name": "stdout",
     "output_type": "stream",
     "text": [
      "epoch loss 363: 0.43186879421110347,  accuracy : 0.9285\n"
     ]
    },
    {
     "name": "stderr",
     "output_type": "stream",
     "text": [
      "/var/folders/f6/wq5mxjh56fn3n0322tvlpf700000gn/T/ipykernel_90208/1063372099.py:68: RuntimeWarning: divide by zero encountered in log\n",
      "  + (np.ones_like(y) - y) * np.log(np.ones_like(act_logits) - act_logits)\n",
      "/var/folders/f6/wq5mxjh56fn3n0322tvlpf700000gn/T/ipykernel_90208/1063372099.py:68: RuntimeWarning: invalid value encountered in multiply\n",
      "  + (np.ones_like(y) - y) * np.log(np.ones_like(act_logits) - act_logits)\n"
     ]
    },
    {
     "name": "stdout",
     "output_type": "stream",
     "text": [
      "epoch loss 364: 0.43162129938403676,  accuracy : 0.9284\n"
     ]
    },
    {
     "name": "stderr",
     "output_type": "stream",
     "text": [
      "/var/folders/f6/wq5mxjh56fn3n0322tvlpf700000gn/T/ipykernel_90208/1063372099.py:68: RuntimeWarning: divide by zero encountered in log\n",
      "  + (np.ones_like(y) - y) * np.log(np.ones_like(act_logits) - act_logits)\n",
      "/var/folders/f6/wq5mxjh56fn3n0322tvlpf700000gn/T/ipykernel_90208/1063372099.py:68: RuntimeWarning: invalid value encountered in multiply\n",
      "  + (np.ones_like(y) - y) * np.log(np.ones_like(act_logits) - act_logits)\n"
     ]
    },
    {
     "name": "stdout",
     "output_type": "stream",
     "text": [
      "epoch loss 365: 0.43138800677089134,  accuracy : 0.9284\n"
     ]
    },
    {
     "name": "stderr",
     "output_type": "stream",
     "text": [
      "/var/folders/f6/wq5mxjh56fn3n0322tvlpf700000gn/T/ipykernel_90208/1063372099.py:68: RuntimeWarning: divide by zero encountered in log\n",
      "  + (np.ones_like(y) - y) * np.log(np.ones_like(act_logits) - act_logits)\n",
      "/var/folders/f6/wq5mxjh56fn3n0322tvlpf700000gn/T/ipykernel_90208/1063372099.py:68: RuntimeWarning: invalid value encountered in multiply\n",
      "  + (np.ones_like(y) - y) * np.log(np.ones_like(act_logits) - act_logits)\n"
     ]
    },
    {
     "name": "stdout",
     "output_type": "stream",
     "text": [
      "epoch loss 366: 0.4311257849810479,  accuracy : 0.9286\n"
     ]
    },
    {
     "name": "stderr",
     "output_type": "stream",
     "text": [
      "/var/folders/f6/wq5mxjh56fn3n0322tvlpf700000gn/T/ipykernel_90208/1063372099.py:68: RuntimeWarning: divide by zero encountered in log\n",
      "  + (np.ones_like(y) - y) * np.log(np.ones_like(act_logits) - act_logits)\n",
      "/var/folders/f6/wq5mxjh56fn3n0322tvlpf700000gn/T/ipykernel_90208/1063372099.py:68: RuntimeWarning: invalid value encountered in multiply\n",
      "  + (np.ones_like(y) - y) * np.log(np.ones_like(act_logits) - act_logits)\n"
     ]
    },
    {
     "name": "stdout",
     "output_type": "stream",
     "text": [
      "epoch loss 367: 0.4308269422375888,  accuracy : 0.9285\n"
     ]
    },
    {
     "name": "stderr",
     "output_type": "stream",
     "text": [
      "/var/folders/f6/wq5mxjh56fn3n0322tvlpf700000gn/T/ipykernel_90208/1063372099.py:68: RuntimeWarning: divide by zero encountered in log\n",
      "  + (np.ones_like(y) - y) * np.log(np.ones_like(act_logits) - act_logits)\n",
      "/var/folders/f6/wq5mxjh56fn3n0322tvlpf700000gn/T/ipykernel_90208/1063372099.py:68: RuntimeWarning: invalid value encountered in multiply\n",
      "  + (np.ones_like(y) - y) * np.log(np.ones_like(act_logits) - act_logits)\n"
     ]
    },
    {
     "name": "stdout",
     "output_type": "stream",
     "text": [
      "epoch loss 368: 0.4305543982489643,  accuracy : 0.9285\n",
      "epoch loss 369: 0.4300943416549219,  accuracy : 0.9286\n",
      "epoch loss 370: 0.42955531781035144,  accuracy : 0.9284\n",
      "epoch loss 371: 0.42896193977833774,  accuracy : 0.9283\n",
      "epoch loss 372: 0.42799989519714726,  accuracy : 0.9282\n",
      "epoch loss 373: 0.42691237982265084,  accuracy : 0.9282\n",
      "epoch loss 374: 0.4254671654516998,  accuracy : 0.9282\n",
      "epoch loss 375: 0.4240100466292625,  accuracy : 0.9282\n",
      "epoch loss 376: 0.42247647159522067,  accuracy : 0.9283\n",
      "epoch loss 377: 0.42089774248491585,  accuracy : 0.9284\n",
      "epoch loss 378: 0.4192637161886281,  accuracy : 0.9287\n",
      "epoch loss 379: 0.417616492532275,  accuracy : 0.9287\n",
      "epoch loss 380: 0.41596584052133223,  accuracy : 0.9286\n",
      "epoch loss 381: 0.4143258069725924,  accuracy : 0.9289\n",
      "epoch loss 382: 0.4127328788397207,  accuracy : 0.9289\n",
      "epoch loss 383: 0.4111794286946066,  accuracy : 0.9289\n",
      "epoch loss 384: 0.4096403311505159,  accuracy : 0.9292\n",
      "epoch loss 385: 0.4080422588721417,  accuracy : 0.9289\n",
      "epoch loss 386: 0.4064013757358093,  accuracy : 0.9289\n",
      "epoch loss 387: 0.4047579201403264,  accuracy : 0.9291\n",
      "epoch loss 388: 0.4031287822538548,  accuracy : 0.9291\n",
      "epoch loss 389: 0.4015372981038382,  accuracy : 0.9292\n",
      "epoch loss 390: 0.39995777050818826,  accuracy : 0.9291\n",
      "epoch loss 391: 0.3983850202926784,  accuracy : 0.9291\n",
      "epoch loss 392: 0.39680863793900656,  accuracy : 0.9291\n",
      "epoch loss 393: 0.395212696868147,  accuracy : 0.9292\n",
      "epoch loss 394: 0.39355158241790344,  accuracy : 0.9294\n",
      "epoch loss 395: 0.39189441521494706,  accuracy : 0.9294\n",
      "epoch loss 396: 0.3901886049686541,  accuracy : 0.9292\n",
      "epoch loss 397: 0.3884954198963273,  accuracy : 0.9292\n",
      "epoch loss 398: 0.38683649896702477,  accuracy : 0.9294\n",
      "epoch loss 399: 0.38521223622251755,  accuracy : 0.93\n",
      "epoch loss 400: 0.3837482788744009,  accuracy : 0.9299\n",
      "epoch loss 401: 0.3823766735349988,  accuracy : 0.9299\n",
      "epoch loss 402: 0.38128310187412773,  accuracy : 0.93\n",
      "epoch loss 403: 0.3802206041563744,  accuracy : 0.9297\n",
      "epoch loss 404: 0.3791991565078895,  accuracy : 0.93\n",
      "epoch loss 405: 0.37822261745020214,  accuracy : 0.9299\n",
      "epoch loss 406: 0.3772830568633464,  accuracy : 0.9302\n",
      "epoch loss 407: 0.37638093245953713,  accuracy : 0.9303\n",
      "epoch loss 408: 0.3755355333591245,  accuracy : 0.9303\n",
      "epoch loss 409: 0.3746031110775072,  accuracy : 0.9304\n",
      "epoch loss 410: 0.37369559841183364,  accuracy : 0.9304\n",
      "epoch loss 411: 0.37282023700988987,  accuracy : 0.9307\n",
      "epoch loss 412: 0.37196290255605235,  accuracy : 0.9309\n",
      "epoch loss 413: 0.37112988257038787,  accuracy : 0.9309\n",
      "epoch loss 414: 0.3703135856348696,  accuracy : 0.931\n",
      "epoch loss 415: 0.3693942223004557,  accuracy : 0.9309\n",
      "epoch loss 416: 0.36848582717826567,  accuracy : 0.9308\n"
     ]
    },
    {
     "ename": "KeyboardInterrupt",
     "evalue": "",
     "output_type": "error",
     "traceback": [
      "\u001b[0;31m---------------------------------------------------------------------------\u001b[0m",
      "\u001b[0;31mKeyboardInterrupt\u001b[0m                         Traceback (most recent call last)",
      "Cell \u001b[0;32mIn[9], line 11\u001b[0m\n\u001b[1;32m      8\u001b[0m \u001b[38;5;28mprint\u001b[39m(\u001b[38;5;124mf\u001b[39m\u001b[38;5;124m\"\u001b[39m\u001b[38;5;124mY_test.shape: \u001b[39m\u001b[38;5;132;01m{\u001b[39;00my_test\u001b[38;5;241m.\u001b[39mshape\u001b[38;5;132;01m}\u001b[39;00m\u001b[38;5;124m\"\u001b[39m)\n\u001b[1;32m     10\u001b[0m model \u001b[38;5;241m=\u001b[39m ANN(X_train, y_train, X_test, y_test)\n\u001b[0;32m---> 11\u001b[0m model\u001b[38;5;241m.\u001b[39mtrain()\n",
      "Cell \u001b[0;32mIn[8], line 129\u001b[0m, in \u001b[0;36mANN.train\u001b[0;34m(self)\u001b[0m\n\u001b[1;32m    127\u001b[0m A1, A2, A3 \u001b[38;5;241m=\u001b[39m \u001b[38;5;28mself\u001b[39m\u001b[38;5;241m.\u001b[39mforward(X_train)\n\u001b[1;32m    128\u001b[0m L \u001b[38;5;241m=\u001b[39m \u001b[38;5;28mself\u001b[39m\u001b[38;5;241m.\u001b[39mloss_fn(X_train, y_train, A3)\n\u001b[0;32m--> 129\u001b[0m dW1, db1, dW2, db2, dW3, db3 \u001b[38;5;241m=\u001b[39m \u001b[38;5;28mself\u001b[39m\u001b[38;5;241m.\u001b[39mbackward(\n\u001b[1;32m    130\u001b[0m     X_train, y_train, A1, A2, A3\n\u001b[1;32m    131\u001b[0m )\n\u001b[1;32m    132\u001b[0m losses\u001b[38;5;241m.\u001b[39mappend(L)\n\u001b[1;32m    133\u001b[0m \u001b[38;5;28mself\u001b[39m\u001b[38;5;241m.\u001b[39moptimize(dW1, db1, dW2, db2, dW3, db3)\n",
      "Cell \u001b[0;32mIn[8], line 62\u001b[0m, in \u001b[0;36mANN.backward\u001b[0;34m(self, X, y, A1, A2, A3)\u001b[0m\n\u001b[1;32m     60\u001b[0m dZ1[A1 \u001b[38;5;241m<\u001b[39m \u001b[38;5;241m0\u001b[39m] \u001b[38;5;241m=\u001b[39m \u001b[38;5;241m0\u001b[39m  \u001b[38;5;66;03m# backprop relu\u001b[39;00m\n\u001b[1;32m     61\u001b[0m dW1 \u001b[38;5;241m=\u001b[39m (\u001b[38;5;241m1\u001b[39m \u001b[38;5;241m/\u001b[39m X\u001b[38;5;241m.\u001b[39mshape[\u001b[38;5;241m0\u001b[39m]) \u001b[38;5;241m*\u001b[39m np\u001b[38;5;241m.\u001b[39mdot(X\u001b[38;5;241m.\u001b[39mT, dZ1)\n\u001b[0;32m---> 62\u001b[0m db1 \u001b[38;5;241m=\u001b[39m np\u001b[38;5;241m.\u001b[39msum(dZ1, axis\u001b[38;5;241m=\u001b[39m\u001b[38;5;241m0\u001b[39m, keepdims\u001b[38;5;241m=\u001b[39m\u001b[38;5;28;01mTrue\u001b[39;00m)\n\u001b[1;32m     63\u001b[0m \u001b[38;5;28;01mreturn\u001b[39;00m dW1, db1, dW2, db2, dW3, db3\n",
      "File \u001b[0;32m~/anaconda3/envs/ml_demos/lib/python3.11/site-packages/numpy/_core/fromnumeric.py:2344\u001b[0m, in \u001b[0;36m_sum_dispatcher\u001b[0;34m(a, axis, dtype, out, keepdims, initial, where)\u001b[0m\n\u001b[1;32m   2338\u001b[0m         \u001b[38;5;28;01mraise\u001b[39;00m \u001b[38;5;167;01mValueError\u001b[39;00m(\u001b[38;5;124m\"\u001b[39m\u001b[38;5;124mPassing `min` or `max` keyword argument when \u001b[39m\u001b[38;5;124m\"\u001b[39m\n\u001b[1;32m   2339\u001b[0m                          \u001b[38;5;124m\"\u001b[39m\u001b[38;5;124m`a_min` and `a_max` are provided is forbidden.\u001b[39m\u001b[38;5;124m\"\u001b[39m)\n\u001b[1;32m   2341\u001b[0m     \u001b[38;5;28;01mreturn\u001b[39;00m _wrapfunc(a, \u001b[38;5;124m'\u001b[39m\u001b[38;5;124mclip\u001b[39m\u001b[38;5;124m'\u001b[39m, a_min, a_max, out\u001b[38;5;241m=\u001b[39mout, \u001b[38;5;241m*\u001b[39m\u001b[38;5;241m*\u001b[39mkwargs)\n\u001b[0;32m-> 2344\u001b[0m \u001b[38;5;28;01mdef\u001b[39;00m \u001b[38;5;21m_sum_dispatcher\u001b[39m(a, axis\u001b[38;5;241m=\u001b[39m\u001b[38;5;28;01mNone\u001b[39;00m, dtype\u001b[38;5;241m=\u001b[39m\u001b[38;5;28;01mNone\u001b[39;00m, out\u001b[38;5;241m=\u001b[39m\u001b[38;5;28;01mNone\u001b[39;00m, keepdims\u001b[38;5;241m=\u001b[39m\u001b[38;5;28;01mNone\u001b[39;00m,\n\u001b[1;32m   2345\u001b[0m                     initial\u001b[38;5;241m=\u001b[39m\u001b[38;5;28;01mNone\u001b[39;00m, where\u001b[38;5;241m=\u001b[39m\u001b[38;5;28;01mNone\u001b[39;00m):\n\u001b[1;32m   2346\u001b[0m     \u001b[38;5;28;01mreturn\u001b[39;00m (a, out)\n\u001b[1;32m   2349\u001b[0m \u001b[38;5;129m@array_function_dispatch\u001b[39m(_sum_dispatcher)\n\u001b[1;32m   2350\u001b[0m \u001b[38;5;28;01mdef\u001b[39;00m \u001b[38;5;21msum\u001b[39m(a, axis\u001b[38;5;241m=\u001b[39m\u001b[38;5;28;01mNone\u001b[39;00m, dtype\u001b[38;5;241m=\u001b[39m\u001b[38;5;28;01mNone\u001b[39;00m, out\u001b[38;5;241m=\u001b[39m\u001b[38;5;28;01mNone\u001b[39;00m, keepdims\u001b[38;5;241m=\u001b[39mnp\u001b[38;5;241m.\u001b[39m_NoValue,\n\u001b[1;32m   2351\u001b[0m         initial\u001b[38;5;241m=\u001b[39mnp\u001b[38;5;241m.\u001b[39m_NoValue, where\u001b[38;5;241m=\u001b[39mnp\u001b[38;5;241m.\u001b[39m_NoValue):\n",
      "\u001b[0;31mKeyboardInterrupt\u001b[0m: "
     ]
    }
   ],
   "source": [
    "X_train = normalize_images(train_imgs)\n",
    "y_train = vectorize_labels(train_lbls)\n",
    "X_test = normalize_images(test_imgs)\n",
    "y_test = vectorize_labels(test_lbls)\n",
    "print(f\"X_train.shape: {X_train.shape}\")\n",
    "print(f\"Y_train.shape: {y_train.shape}\")\n",
    "print(f\"X_test.shape: {X_test.shape}\")\n",
    "print(f\"Y_test.shape: {y_test.shape}\")\n",
    "\n",
    "model = ANN(X_train, y_train, X_test, y_test)\n",
    "model.train()"
   ]
  }
 ],
 "metadata": {
  "kernelspec": {
   "display_name": "ml_demos",
   "language": "python",
   "name": "ml_demos"
  },
  "language_info": {
   "codemirror_mode": {
    "name": "ipython",
    "version": 3
   },
   "file_extension": ".py",
   "mimetype": "text/x-python",
   "name": "python",
   "nbconvert_exporter": "python",
   "pygments_lexer": "ipython3",
   "version": "3.11.9"
  }
 },
 "nbformat": 4,
 "nbformat_minor": 5
}
